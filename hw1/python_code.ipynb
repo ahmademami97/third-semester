{
 "cells": [
  {
   "cell_type": "markdown",
   "metadata": {},
   "source": [
    "## تمرین شماره 1 صفحه 27"
   ]
  },
  {
   "cell_type": "code",
   "execution_count": 1,
   "metadata": {},
   "outputs": [
    {
     "name": "stdout",
     "output_type": "stream",
     "text": [
      "solution for: investment policy for a 5 year span\n",
      "objective: -4.673\n",
      "x(1,1) = 7.273\n",
      "x(2,1) = 47.727\n",
      "w(2) = 2.336\n"
     ]
    }
   ],
   "source": [
    "from docplex.mp.model import Model\n",
    "m = Model(name='investment policy for a 5 year span')\n",
    "# Variables\n",
    "x1 = m.continuous_var(name='x(1,1)')\n",
    "x2 = m.continuous_var(name='x(2,1)')\n",
    "y1 = m.continuous_var(name='y(1)')\n",
    "y2 = m.continuous_var(name='y(2)')\n",
    "w1 = m.continuous_var(name='w(1)')\n",
    "w2 = m.continuous_var(name='w(2)')\n",
    "Y=[y1,y2]\n",
    "W=[w1,w2]\n",
    "X=[x1,x2]\n",
    "# Constraints\n",
    "investments = m.add_constraint((x1+x2) == 55)\n",
    "s1 = m.add_constraint((1.25*x1+1.14*x2-y1+w1) == 63.5)\n",
    "s2 = m.add_constraint((1.06*x1+1.12*x2-y2+w2)==63.5)\n",
    "sign_x=m.add_constraints(x>=0 for x  in X)\n",
    "sign_y=m.add_constraints(y>=0 for y  in Y)\n",
    "sign_w=m.add_constraints(w>=0 for w  in W)\n",
    "# Goals\n",
    "m.maximize(sum(0.5*(a-4*b) for a,b in zip(Y,W)))\n",
    "sol=m.solve()\n",
    "sol.display()"
   ]
  },
  {
   "cell_type": "markdown",
   "metadata": {},
   "source": [
    "## تمرین شماره3 صفحه 27"
   ]
  },
  {
   "cell_type": "code",
   "execution_count": 2,
   "metadata": {},
   "outputs": [],
   "source": [
    "w_y_keys=[]\n",
    "for a in range(1,3):\n",
    "    for b in range(1,3):\n",
    "        for c in range(1,3):\n",
    "            for d in range(1,3):\n",
    "                w_y_keys.append((a,b,c,d))"
   ]
  },
  {
   "cell_type": "code",
   "execution_count": 3,
   "metadata": {},
   "outputs": [],
   "source": [
    "x_keys=[(1,1),(2,1),(1,2,1),(2,2,1),(1,2,2),(2,2,2),(1,3,1,1),(1,3,1,2),(1,3,2,1),(1,3,2,2),\n",
    "(2,3,1,1),(2,3,1,2),(2,3,2,1),(2,3,2,2)]"
   ]
  },
  {
   "cell_type": "code",
   "execution_count": 4,
   "metadata": {},
   "outputs": [],
   "source": [
    "from docplex.mp.model import Model\n",
    "m = Model(name='investment policy for a 2 goals')\n",
    "# Variables\n",
    "x=m.continuous_var_list(keys=x_keys,name='x')\n",
    "y=m.continuous_var_list(keys=w_y_keys,name='y')\n",
    "w=m.continuous_var_list(keys=w_y_keys,name='w')"
   ]
  },
  {
   "cell_type": "code",
   "execution_count": 6,
   "metadata": {},
   "outputs": [],
   "source": [
    "def v(name):\n",
    "    return m.get_var_by_name(name=name)"
   ]
  },
  {
   "cell_type": "code",
   "execution_count": 7,
   "metadata": {},
   "outputs": [],
   "source": [
    "#constraints\n",
    "m.add_constraint_(v('x_1_1')+v('x_2_1')==55)\n",
    "m.add_constraint_(-1.25*v('x_1_1')-1.14*v('x_2_1')+v('x_1_2_1')+v('x_2_2_1')==0)\n",
    "m.add_constraint_(-1.06*v('x_1_1') - 1.12*v('x_2_1') + v('x_1_2_2') + v('x_2_2_2') == 0)\n",
    "m.add_constraint_(-1.25*v('x_1_2_1') - 1.14*v('x_2_2_1') + v('x_1_3_1_1') + v('x_2_3_1_1')==0)\n",
    "m.add_constraint_(-1.06*v('x_1_2_1') - 1.12*v('x_2_2_1') + v('x_1_3_1_2') + v('x_2_3_1_2') == 0)\n",
    "m.add_constraint_(-1.25*v('x_1_2_2') - 1.14*v('x_2_2_2') + v('x_1_3_2_1') + v('x_2_3_2_1') == 0)\n",
    "m.add_constraint_(-1.06*v('x_1_2_2') - 1.12*v('x_2_2_2') + v('x_1_3_2_2') + v('x_2_3_2_2') == 0)\n",
    "m.add_constraint_(1.25*v('x_1_3_1_1') + 1.14*v('x_2_3_1_1') - v('y_1_1_1_1') + v('w_1_1_1_1') == 75)\n",
    "m.add_constraint_(1.06*v('x_1_3_1_1') + 1.12*v('x_2_3_1_1') - v('y_1_1_2_1') + v('w_1_1_2_1') == 75)\n",
    "m.add_constraint_(1.25*v('x_1_3_1_2') + 1.14*v('x_2_3_1_2') - v('y_1_2_1_1') + v('w_1_2_1_1') == 75)\n",
    "m.add_constraint_(1.06*v('x_1_3_1_2') + 1.12*v('x_2_3_1_2') - v('y_1_2_2_1') + v('w_1_2_2_1') == 75)\n",
    "m.add_constraint_(1.25*v('x_1_3_2_1') + 1.14*v('x_2_3_2_1') - v('y_2_1_1_1') + v('w_2_1_1_1') == 75)\n",
    "m.add_constraint_(1.06*v('x_1_3_2_1') + 1.12*v('x_2_3_2_1') - v('y_2_1_2_1') + v('w_2_1_2_1') == 75)\n",
    "m.add_constraint_(1.25*v('x_1_3_2_2') + 1.14*v('x_2_3_2_2') - v('y_2_2_1_1') + v('w_2_2_1_1') == 75)\n",
    "m.add_constraint_(1.06*v('x_1_3_2_2') + 1.12*v('x_2_3_2_2') - v('y_2_2_2_1') + v('w_2_2_2_1') == 75)\n",
    "m.add_constraint_(1.25*v('x_1_3_1_1') + 1.14*v('x_2_3_1_1') - v('y_1_1_1_2') + v('w_1_1_1_2') == 85)\n",
    "m.add_constraint_(1.06*v('x_1_3_1_1') + 1.12*v('x_2_3_1_1') - v('y_1_1_2_2') + v('w_1_1_2_2') == 85)\n",
    "m.add_constraint_(1.25*v('x_1_3_1_2') + 1.14*v('x_2_3_1_2') - v('y_1_2_1_2') + v('w_1_2_1_2') == 85)\n",
    "m.add_constraint_(1.06*v('x_1_3_1_2') + 1.12*v('x_2_3_1_2') - v('y_1_2_2_2') + v('w_1_2_2_2') == 85)\n",
    "m.add_constraint_(1.25*v('x_1_3_2_1') + 1.14*v('x_2_3_2_1') - v('y_2_1_1_2') + v('w_2_1_1_2') == 85)\n",
    "m.add_constraint_(1.06*v('x_1_3_2_1') + 1.12*v('x_2_3_2_1') - v('y_2_1_2_2') + v('w_2_1_2_2') == 85)\n",
    "m.add_constraint_(1.25*v('x_1_3_2_2') + 1.14*v('x_2_3_2_2') - v('y_2_2_1_2') + v('w_2_2_1_2') == 85)\n",
    "m.add_constraint_(1.06*v('x_1_3_2_2') + 1.12*v('x_2_3_2_2') - v('y_2_2_2_2') + v('w_2_2_2_2') == 85)\n",
    "# sign constraints\n",
    "signx=m.add_constraints(x[i]>=0 for i in range(len(x)))\n",
    "signy=m.add_constraints(y[i]>=0 for i in range(len(y)))\n",
    "signw=m.add_constraints(w[i]>=0 for i in range(len(w)))"
   ]
  },
  {
   "cell_type": "code",
   "execution_count": 8,
   "metadata": {},
   "outputs": [],
   "source": [
    "#goals\n",
    "m.maximize(sum((1/16)*(a-4*b) for a,b in zip(y,w)))"
   ]
  },
  {
   "cell_type": "code",
   "execution_count": 9,
   "metadata": {},
   "outputs": [
    {
     "name": "stdout",
     "output_type": "stream",
     "text": [
      "solution for: investment policy for a 2 goals\n",
      "objective: -4.473\n",
      "x_1_1 = 55.000\n",
      "x_1_2_1 = 40.643\n",
      "x_2_2_1 = 28.107\n",
      "x_1_2_2 = 58.300\n",
      "x_1_3_1_1 = 82.846\n",
      "x_1_3_2_1 = 17.477\n",
      "x_1_3_2_2 = 61.798\n",
      "x_2_3_1_2 = 74.561\n",
      "x_2_3_2_1 = 55.398\n",
      "y_1_1_1_1 = 28.557\n",
      "y_1_1_1_2 = 18.557\n",
      "y_1_1_2_1 = 12.817\n",
      "y_1_1_2_2 = 2.817\n",
      "y_1_2_1_1 = 10.000\n",
      "y_1_2_2_1 = 8.509\n",
      "y_2_1_1_1 = 10.000\n",
      "y_2_1_2_1 = 5.571\n",
      "y_2_2_1_1 = 2.248\n",
      "w_1_2_2_2 = 1.491\n",
      "w_2_1_2_2 = 4.429\n",
      "w_2_2_1_2 = 7.752\n",
      "w_2_2_2_1 = 9.494\n",
      "w_2_2_2_2 = 19.494\n"
     ]
    }
   ],
   "source": [
    "sol=m.solve()\n",
    "sol.display()"
   ]
  }
 ],
 "metadata": {
  "interpreter": {
   "hash": "cc5f70855ac006f3de45a3cc3b9e7d8d53845e50458809cb162b0174266dec97"
  },
  "kernelspec": {
   "display_name": "Python 3.8.12 64-bit ('base': conda)",
   "language": "python",
   "name": "python3"
  },
  "language_info": {
   "codemirror_mode": {
    "name": "ipython",
    "version": 3
   },
   "file_extension": ".py",
   "mimetype": "text/x-python",
   "name": "python",
   "nbconvert_exporter": "python",
   "pygments_lexer": "ipython3",
   "version": "3.8.12"
  },
  "orig_nbformat": 4
 },
 "nbformat": 4,
 "nbformat_minor": 2
}
