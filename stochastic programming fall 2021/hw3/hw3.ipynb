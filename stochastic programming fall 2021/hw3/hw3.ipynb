{
 "cells": [
  {
   "cell_type": "code",
   "execution_count": 2,
   "metadata": {},
   "outputs": [],
   "source": [
    "import operator as op\n",
    "from functools import reduce\n",
    "\n",
    "def ncr(n, r):\n",
    "    r = min(r, n-r)\n",
    "    numer = reduce(op.mul, range(n, n-r, -1), 1)\n",
    "    denom = reduce(op.mul, range(1, r+1), 1)\n",
    "    return numer // denom"
   ]
  },
  {
   "cell_type": "code",
   "execution_count": 3,
   "metadata": {},
   "outputs": [
    {
     "name": "stdout",
     "output_type": "stream",
     "text": [
      "for r=50 the probability of seating all passenger is 1.0\n",
      "for r=51 the probability of seating all passenger is 0.9954\n",
      "for r=52 the probability of seating all passenger is 0.9717\n",
      "for r=53 the probability of seating all passenger is 0.9102\n",
      "for r=54 the probability of seating all passenger is 0.8015\n",
      "for r=55 the probability of seating all passenger is 0.6549\n",
      "for r=56 the probability of seating all passenger is 0.4935\n",
      "for r=57 the probability of seating all passenger is 0.3429\n",
      "for r=58 the probability of seating all passenger is 0.2203\n",
      "for r=59 the probability of seating all passenger is 0.1314\n",
      "for r=60 the probability of seating all passenger is 0.0731\n"
     ]
    }
   ],
   "source": [
    "for r in range(50,61):\n",
    "    p=sum(ncr(r,i)*pow(0.9,r-i)*pow(0.1,i) for i in range(r-50,r+1))\n",
    "    print('for r={} the probability of seating all passenger is {}'.format(r,round(p,4)))\n"
   ]
  },
  {
   "cell_type": "code",
   "execution_count": 6,
   "metadata": {},
   "outputs": [],
   "source": [
    "from scipy.stats import poisson\n",
    "from math import e"
   ]
  },
  {
   "cell_type": "code",
   "execution_count": 13,
   "metadata": {},
   "outputs": [
    {
     "name": "stdout",
     "output_type": "stream",
     "text": [
      "for k=1 0.1991482734714558\n",
      "for k=2 0.42319008112684364\n",
      "for k=3 0.6472318887822313\n",
      "for k=4 0.8152632445237722\n",
      "for k=5 0.9160820579686966\n",
      "for k=6 0.9664914646911588\n",
      "for k=7 0.9880954961436426\n",
      "for k=8 0.996197007938324\n",
      "for k=9 0.9988975118698845\n"
     ]
    }
   ],
   "source": [
    "# برای محدودیت اول\n",
    "for k in range(1,10):\n",
    "    print('for k={}'.format(k),poisson.cdf(k=k,mu=3))"
   ]
  },
  {
   "cell_type": "code",
   "execution_count": 11,
   "metadata": {},
   "outputs": [
    {
     "name": "stdout",
     "output_type": "stream",
     "text": [
      "for k=1 0.007295055724436127\n",
      "for k=2 0.029636163880521763\n",
      "for k=3 0.0817654162447216\n",
      "for k=4 0.17299160788207146\n",
      "for k=5 0.3007082761743609\n",
      "for k=6 0.44971105584869875\n",
      "for k=7 0.5987138355230368\n",
      "for k=8 0.7290912677380824\n",
      "for k=9 0.8304959372386733\n",
      "for k=10 0.9014792058890873\n",
      "for k=11 0.9466503768484416\n",
      "for k=12 0.9730002265747313\n",
      "for k=13 0.9871886071965797\n",
      "for k=14 0.994282797507504\n",
      "for k=15 0.997593419652602\n"
     ]
    }
   ],
   "source": [
    "#برای محدودیت دوم\n",
    "for k in range(1,16):\n",
    "    print('for k={}'.format(k),poisson.cdf(k=k,mu=7))"
   ]
  }
 ],
 "metadata": {
  "interpreter": {
   "hash": "cc5f70855ac006f3de45a3cc3b9e7d8d53845e50458809cb162b0174266dec97"
  },
  "kernelspec": {
   "display_name": "Python 3.8.12 64-bit ('base': conda)",
   "language": "python",
   "name": "python3"
  },
  "language_info": {
   "codemirror_mode": {
    "name": "ipython",
    "version": 3
   },
   "file_extension": ".py",
   "mimetype": "text/x-python",
   "name": "python",
   "nbconvert_exporter": "python",
   "pygments_lexer": "ipython3",
   "version": "3.8.12"
  },
  "orig_nbformat": 4
 },
 "nbformat": 4,
 "nbformat_minor": 2
}
