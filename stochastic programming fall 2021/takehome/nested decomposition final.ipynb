{
 "cells": [
  {
   "cell_type": "markdown",
   "metadata": {},
   "source": [
    "### defining parameters and importing libraries"
   ]
  },
  {
   "cell_type": "code",
   "execution_count": 9,
   "metadata": {},
   "outputs": [],
   "source": [
    "import pandas as pd\n",
    "import numpy as np\n",
    "from math import  inf\n",
    "from docplex.mp.model import Model\n",
    "#parameters\n",
    "yields={1:[3,2.5,2,3,2.5,2,3,2.5,2] , 2:[3.6,3,2.4,3.6,3,2.4,3.6,3,2.4] , 3:[24,20,16,24,20,16,24,20,16]}\n",
    "planting_cost=[150,230,260]\n",
    "buying_price=[238,210]\n",
    "selling_price=[170, 150, 36, 10]\n"
   ]
  },
  {
   "cell_type": "code",
   "execution_count": 14,
   "metadata": {},
   "outputs": [
    {
     "ename": "SyntaxError",
     "evalue": "unmatched ')' (Temp/ipykernel_19240/667394135.py, line 93)",
     "output_type": "error",
     "traceback": [
      "\u001b[1;36m  File \u001b[1;32m\"C:\\Users\\calvin\\AppData\\Local\\Temp/ipykernel_19240/667394135.py\"\u001b[1;36m, line \u001b[1;32m93\u001b[0m\n\u001b[1;33m    pi31=pi_NLDS3['NLDS31']).reshape(1,4)\u001b[0m\n\u001b[1;37m                           ^\u001b[0m\n\u001b[1;31mSyntaxError\u001b[0m\u001b[1;31m:\u001b[0m unmatched ')'\n"
     ]
    }
   ],
   "source": [
    "# i is our counter which we can use to set how many loop we want our algorithm to Run\n",
    "i=1\n",
    "#define E21 and e21\n",
    "#these variables are used to produce cuts in each iteration\n",
    "E21=np.zeros([5,3])\n",
    "e21=np.zeros(5)\n",
    "E11=np.zeros([5,3])\n",
    "e11=np.zeros(5)\n",
    "while i<=5:\n",
    "    print('##############################################################################################','\\n',\n",
    "    '###########################################{}تکرار#######################################'.format(i),'\\n',\n",
    "    '#############################################################################################')\n",
    "    NLDS1=Model(name='NLDS1')\n",
    "    x1=NLDS1.continuous_var_matrix(range(1,4),range(1,3),name='x',key_format='%s')\n",
    "    teta1=NLDS1.continuous_var_list(range(1,2),lb=-inf,name='teta1',key_format='%s')\n",
    "    NLDS1.add_constraint_(x1[1,1]+x1[2,1]+x1[3,1]<=500)\n",
    "    if i==1:\n",
    "        NLDS1.add_constraint_(teta1[0]==0,'teta==0 constraint')\n",
    "    if i>1:\n",
    "        for k in range(i-1):\n",
    "            NLDS1.add_constraint_(x1[1,1] * E11[k][0] + x1[2,1] * E11[k][1] + x1[3,1] * E11[k][2] + teta1[0] >= e11[k])\n",
    "\n",
    "    NLDS1.minimize(sum(planting_cost[i-1]*x1[i,j] for i in range(1,4) for j in range(1,2))+teta1[0])\n",
    "    sol_NLDS1=NLDS1.solve()\n",
    "    sol_NLDS1.display()\n",
    "    pi_NLDS2={}\n",
    "    for s in range(1,4):\n",
    "        NLDS2=Model(name='NLDS2{}'.format(s))\n",
    "        #variables\n",
    "        x2=NLDS2.continuous_var_matrix(range(1,4),range(1,3),name='x',key_format='%s')\n",
    "        teta2=NLDS2.continuous_var_list(range(1,4),lb=-inf,name='teta2',key_format='%s')\n",
    "        y2=NLDS2.continuous_var_cube(range(1,3),range(1,4),range(2,4),name='y',key_format='%s')\n",
    "        w2=NLDS2.continuous_var_cube(range(1,5),range(1,4),range(2,4),name='w',key_format='%s')\n",
    "        #constraints\n",
    "        NLDS2.add_constraint_(-x2[1,2]-x2[2,2]-x2[3,2]>=-500,'1')\n",
    "        NLDS2.add_constraint_(sol_NLDS1[x1[1,1]] * yields[1][s-1] + y2[1,s,2] - w2[1,s,2] >= 200,'2')\n",
    "        NLDS2.add_constraint_(sol_NLDS1[x1[2,1]] * yields[2][s-1] + y2[2,s,2] - w2[2,s,2] >= 240,'3')\n",
    "        NLDS2.add_constraint_(sol_NLDS1[x1[3,1]] * yields[3][s-1] - w2[3,s,2] - w2[4,s,2] >= 0,'4')\n",
    "        NLDS2.add_constraint_(-w2[3,s,2]>=-6000,'5')\n",
    "        NLDS2.add_constraint_(sol_NLDS1[x1[1,1]] + sol_NLDS1[x1[2,1]] - x2[3,2]>=0,'6')\n",
    "        if i==1:\n",
    "                NLDS2.add_constraint_(teta2[s-1]==0,'teta==0 constraint')\n",
    "        if i>1:\n",
    "            for k in range(i-1):\n",
    "                NLDS2.add_constraint_(E21[k][0] * x2[1,2] + E21[k][1] * x2[2,2] + E21[k][2] * x2[3,2] + teta2[s-1] >= e21[k])\n",
    "    \n",
    "        #objective function\n",
    "        NLDS2.minimize(150*x2[1,2]+230*x2[2,2]+260*x2[3,2]+sum(buying_price[i-1]*y2[i,s,2] for i in range(1,3))+\n",
    "                    sum(selling_price[j-1]*w2[j,s,2] for j in range(1,5))+teta2[s-1])   \n",
    "        sol_NLDS2=NLDS2.solve()\n",
    "        sol_NLDS2.display()\n",
    "        simplex=[]\n",
    "        simplex.append(NLDS2.dual_values(NLDS2.find_matching_linear_constraints('1'))[0])\n",
    "        simplex.append(NLDS2.dual_values(NLDS2.find_matching_linear_constraints('2'))[0])\n",
    "        simplex.append(NLDS2.dual_values(NLDS2.find_matching_linear_constraints('3'))[0])\n",
    "        simplex.append(NLDS2.dual_values(NLDS2.find_matching_linear_constraints('4'))[0])\n",
    "        simplex.append(NLDS2.dual_values(NLDS2.find_matching_linear_constraints('5'))[0])\n",
    "        simplex.append(NLDS2.dual_values(NLDS2.find_matching_linear_constraints('6'))[0])\n",
    "        pi_NLDS2['NLDS2{}'.format(s)]=simplex\n",
    "    print('simplex multipliers for NLDS2',pi_NLDS2)\n",
    "    pi_NLDS3={}\n",
    "    for s in range(1,10):\n",
    "        NLDS3=Model(name='NLDS3{}'.format(s))\n",
    "        #variables\n",
    "        teta3=NLDS3.continuous_var_list(range(1,10),lb=-inf,name='teta2',key_format='%s')\n",
    "        y3=NLDS3.continuous_var_cube(range(1,3),range(1,10),range(2,4),name='y',key_format='%s')\n",
    "        w3=NLDS3.continuous_var_cube(range(1,5),range(1,10),range(2,4),name='w',key_format='%s')\n",
    "        #constraints\n",
    "        NLDS3.add_constraint_(sol_NLDS2[x2[1,2]] * yields[1][s-1] + y3[1,s,3] - w3[1,s,2] >= 200,'1')\n",
    "        NLDS3.add_constraint_(sol_NLDS2[x2[2,2]] * yields[2][s-1] + y3[2,s,3] - w3[2,s,3] >= 240,'2')\n",
    "        NLDS3.add_constraint_(sol_NLDS2[x2[3,2]] * yields[3][s-1] - w3[3,s,3] - w3[4,s,3] >= 0,'3')\n",
    "        NLDS3.add_constraint_(-w3[3,s,3]>=-6000,'4')\n",
    "        NLDS3.add_constraint_(teta3[s-1]==0)\n",
    "        #objective function\n",
    "        NLDS3.minimize(sum(buying_price[i-1]*y3[i,s,3] for i in range(1,3))+\n",
    "                    sum(selling_price[j-1]*w3[j,s,3] for j in range(1,5))+teta3[s-1])\n",
    "        sol_NLDS3=NLDS3.solve()\n",
    "        sol_NLDS3.display()\n",
    "        simplex=[]\n",
    "        simplex.append(NLDS3.dual_values(NLDS3.find_matching_linear_constraints('1'))[0])\n",
    "        simplex.append(NLDS3.dual_values(NLDS3.find_matching_linear_constraints('2'))[0])\n",
    "        simplex.append(NLDS3.dual_values(NLDS3.find_matching_linear_constraints('3'))[0])\n",
    "        simplex.append(NLDS3.dual_values(NLDS3.find_matching_linear_constraints('4'))[0])\n",
    "        pi_NLDS3['NLDS3{}'.format(s)]=simplex\n",
    "    print('simplex multipliers for NLDS3',pi_NLDS3)\n",
    "    ##########################################################################################################################\n",
    "    ############################################### BACKWARD DIRECTION ########################################################\n",
    "    ##########################################################################################################################\n",
    "    #t-1=2\n",
    "    T21=np.array([[3,0,0],[0,3.6,0],[0,0,24],[0,0,0]])\n",
    "    T22=np.array([[2.5,0,0],[0,3,0],[0,0,20],[0,0,0]])\n",
    "    T23=np.array([[2,0,0],[0,2.4,0],[0,0,16],[0,0,0]])\n",
    "    pi31=np.array(pi_NLDS3['NLDS31']).reshape(1,4)\n",
    "    pi32=np.array(pi_NLDS3['NLDS32']).reshape(1,4)\n",
    "    pi33=np.array(pi_NLDS3['NLDS33']).reshape(1,4)\n",
    "    E21[i-1]=(1/3)*np.matmul(pi31,T21)+(1/3)*np.matmul(pi32,T22)+(1/3)*np.matmul(pi33,T23)\n",
    "    print('E21:',E21[i-1])\n",
    "    #E22 and E23 will be the same as E21\n",
    "    h31=np.array([200,240,0,-6000]).reshape(4,1)\n",
    "    h32=h31\n",
    "    h33=h31\n",
    "    e21[i-1]=(1/3)*np.matmul(pi31,h31)+(1/3)*np.matmul(pi32,h32)+(1/3)*np.matmul(pi33,h33)\n",
    "    print('e21:',e21[i-1])\n",
    "    x21=[sol_NLDS2[x2[1,2]] ,sol_NLDS2[x2[2,2]] ,\n",
    "    sol_NLDS2[x2[3,2]]]).reshape(3,1)\n",
    "    if e21[i-1]-np.matmul(E21[i-1],x21)>=sol_NLDS2[teta2[0]]:\n",
    "        print('condition does not hold - we add a cut to NLDS21 problem')\n",
    "    else:\n",
    "        print('no cut needed go to t-1')\n",
    "    #########################################\n",
    "    for s in range(1,4):\n",
    "        NLDS2=Model(name='NLDS2{}'.format(s))\n",
    "        #variables\n",
    "        x2=NLDS2.continuous_var_matrix(range(1,4),range(1,3),name='x',key_format='%s')\n",
    "        teta2=NLDS2.continuous_var_list(range(1,4),lb=-inf,name='teta2',key_format='%s')\n",
    "        y2=NLDS2.continuous_var_cube(range(1,3),range(1,4),range(2,4),name='y',key_format='%s')\n",
    "        w2=NLDS2.continuous_var_cube(range(1,5),range(1,4),range(2,4),name='w',key_format='%s')\n",
    "        #constraints\n",
    "        NLDS2.add_constraint_(-x2[1,2]-x2[2,2]-x2[3,2]>=-500,'1')\n",
    "        NLDS2.add_constraint_(sol_NLDS1[x1[1,1]] * yields[1][s-1] + y2[1,s,2] - w2[1,s,2] >= 200,'2')\n",
    "        NLDS2.add_constraint_(sol_NLDS1[x1[2,1]] * yields[2][s-1] + y2[2,s,2] - w2[2,s,2] >= 240,'3')\n",
    "        NLDS2.add_constraint_(sol_NLDS1[x1[3,1]] * yields[3][s-1] - w2[3,s,2] - w2[4,s,2] >= 0,'4')\n",
    "        NLDS2.add_constraint_(-w2[3,s,2]>=-6000,'5')\n",
    "        NLDS2.add_constraint_(sol_NLDS1[x1[1,1]] + sol_NLDS1[x1[2,1]] - x2[3,2]>=0,'6')\n",
    "        for x in range(i):\n",
    "                NLDS2.add_constraint_(E21[x][0] * x2[1,2] + E21[x][1] * x2[2,2] + E21[x][2] * x2[3,2] + teta2[s-1] >= e21[x])\n",
    "        #objective function\n",
    "        NLDS2.minimize(150*x2[1,2]+230*x2[2,2]+260*x2[3,2]+sum(buying_price[i-1]*y2[i,s,2] for i in range(1,3))+\n",
    "                    sum(selling_price[j-1]*w2[j,s,2] for j in range(1,5))+teta2[s-1])\n",
    "        NLDS2.solve().display()\n",
    "        simplex=[]\n",
    "        simplex.append(NLDS2.dual_values(NLDS2.find_matching_linear_constraints('1'))[0])\n",
    "        simplex.append(NLDS2.dual_values(NLDS2.find_matching_linear_constraints('2'))[0])\n",
    "        simplex.append(NLDS2.dual_values(NLDS2.find_matching_linear_constraints('3'))[0])\n",
    "        simplex.append(NLDS2.dual_values(NLDS2.find_matching_linear_constraints('4'))[0])\n",
    "        simplex.append(NLDS2.dual_values(NLDS2.find_matching_linear_constraints('5'))[0])\n",
    "        simplex.append(NLDS2.dual_values(NLDS2.find_matching_linear_constraints('6'))[0])\n",
    "        pi_NLDS2['NLDS2{}'.format(s)]=simplex\n",
    "    #t-1=1\n",
    "    T11=np.array([[3,0,0],[0,3.6,0],[0,0,24],[0,0,0],[0,0,0],[0,0,0]])\n",
    "    T12=np.array([[2.5,0,0],[0,3,0],[0,0,20],[0,0,0],[0,0,0],[0,0,0]])\n",
    "    T13=np.array([[2,0,0],[0,2.4,0],[0,0,16],[0,0,0],[0,0,0],[0,0,0]])\n",
    "    pi21=np.array(pi_NLDS2['NLDS21']).reshape(1,6)\n",
    "    pi22=np.array(pi_NLDS2['NLDS22']).reshape(1,6)\n",
    "    pi23=np.array(pi_NLDS2['NLDS23']).reshape(1,6)\n",
    "    E11[i-1]=(1/3)*np.matmul(pi21,T11)+(1/3)*np.matmul(pi22,T12)+(1/3)*np.matmul(pi23,T13)\n",
    "    print('E11:',E11[i-1])\n",
    "    #E22 and E23 will be the same as E21\n",
    "    h21=np.array([-500,200,240,0,-6000,0]).reshape(6,1)\n",
    "    h22=h21\n",
    "    h23=h21\n",
    "    e11[i-1]=(1/3)*np.matmul(pi21,h21)+(1/3)*np.matmul(pi22,h22)+(1/3)*np.matmul(pi23,h23)\n",
    "    print('e11:',e11[i-1])\n",
    "    x11=[sol_NLDS1[x1[1,1]] ,sol_NLDS1[x1[2,1]] ,\n",
    "    sol_NLDS1[x1[3,1]]]).reshape(3,1)\n",
    "    if e21[i-1]-np.matmul(E11[i-1],x11)>=sol_NLDS1.get_value_list(teta1)[0]:\n",
    "        print('condition does not hold - we add a cut to NLDS1 problem')\n",
    "    else:\n",
    "        print('no cut needed - optimal solution achieved!')\n",
    "        break\n",
    "    NLDS1.add_constraint_(x1[1,1] * E11[i-1][0] + x1[2,1] * E11[i-1][1] + x1[3,1] * E11[i-1][2] + teta1[0] >= e11[i-1])\n",
    "    NLDS1.remove_constraint('teta==0 constraint')\n",
    "    sol_NLDS1=NLDS1.solve()\n",
    "    sol_NLDS1.display()\n",
    "\n",
    "\n",
    "\n",
    "    i+=1\n",
    "\n",
    "\n",
    "\n"
   ]
  },
  {
   "cell_type": "code",
   "execution_count": 12,
   "metadata": {},
   "outputs": [
    {
     "data": {
      "text/plain": [
       "0"
      ]
     },
     "execution_count": 12,
     "metadata": {},
     "output_type": "execute_result"
    }
   ],
   "source": [
    "NLDS2.dual_values(NLDS2.find_matching_linear_constraints('a'))[0]"
   ]
  }
 ],
 "metadata": {
  "interpreter": {
   "hash": "cc5f70855ac006f3de45a3cc3b9e7d8d53845e50458809cb162b0174266dec97"
  },
  "kernelspec": {
   "display_name": "Python 3 (ipykernel)",
   "language": "python",
   "name": "python3"
  },
  "language_info": {
   "codemirror_mode": {
    "name": "ipython",
    "version": 3
   },
   "file_extension": ".py",
   "mimetype": "text/x-python",
   "name": "python",
   "nbconvert_exporter": "python",
   "pygments_lexer": "ipython3",
   "version": "3.8.12"
  },
  "varInspector": {
   "cols": {
    "lenName": 16,
    "lenType": 16,
    "lenVar": 40
   },
   "kernels_config": {
    "python": {
     "delete_cmd_postfix": "",
     "delete_cmd_prefix": "del ",
     "library": "var_list.py",
     "varRefreshCmd": "print(var_dic_list())"
    },
    "r": {
     "delete_cmd_postfix": ") ",
     "delete_cmd_prefix": "rm(",
     "library": "var_list.r",
     "varRefreshCmd": "cat(var_dic_list()) "
    }
   },
   "types_to_exclude": [
    "module",
    "function",
    "builtin_function_or_method",
    "instance",
    "_Feature"
   ],
   "window_display": false
  }
 },
 "nbformat": 4,
 "nbformat_minor": 2
}
