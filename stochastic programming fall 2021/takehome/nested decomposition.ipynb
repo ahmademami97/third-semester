{
 "cells": [
  {
   "cell_type": "code",
   "execution_count": 1,
   "metadata": {},
   "outputs": [],
   "source": [
    "import pandas as pd\n",
    "import numpy as np\n",
    "import matplotlib.pyplot as plt\n",
    "import scipy.stats as scs\n",
    "from math import  inf\n",
    "from docplex.mp.model import Model"
   ]
  },
  {
   "cell_type": "code",
   "execution_count": 3,
   "metadata": {},
   "outputs": [],
   "source": [
    "#parameters\n",
    "yields={1:[3,2.5,2,3,2.5,2,3,2.5,2] , 2:[3.6,3,2.4,3.6,3,2.4,3.6,3,2.4] , 3:[24,20,16,24,20,16,24,20,16]}\n",
    "probability={1:1/3 , 2:1/3 , 3:1/3}\n",
    "plant=[150,230,260]\n",
    "buy =[238,210]\n",
    "sell=[170, 150, 36, 10]"
   ]
  },
  {
   "cell_type": "markdown",
   "metadata": {},
   "source": [
    "##### گام اول\n",
    "##### NLDS(1)"
   ]
  },
  {
   "cell_type": "code",
   "execution_count": 43,
   "metadata": {},
   "outputs": [
    {
     "name": "stdout",
     "output_type": "stream",
     "text": [
      "objective: 0.000\n",
      "  x11=0.000\n",
      "  x21=0.000\n",
      "  x31=0.000\n",
      "  teta1=0.000\n"
     ]
    }
   ],
   "source": [
    "from docplex.mp.model import Model\n",
    "NLDS1=Model(name='NLDS')\n",
    "x=NLDS1.continuous_var_matrix(range(1,4),range(1,2),name='x',key_format='%s')\n",
    "teta1=NLDS1.continuous_var(lb=-inf,name='teta1')\n",
    "NLDS1.add_constraint_(x[1,1]+x[2,1]+x[3,1]<=500)\n",
    "NLDS1.add_constraint_(teta1==0)\n",
    "NLDS1.minimize(sum(plant[i-1]*x[i,j]+teta1 for i in range(1,4) for j in range(1,2)))\n",
    "sol_NLDS1=NLDS1.solve()\n",
    "NLDS1.print_solution(print_zeros=True)\n",
    "#sol.get_value_dict(x)\n"
   ]
  },
  {
   "cell_type": "markdown",
   "metadata": {},
   "source": [
    "#### NLDS(2,k)"
   ]
  },
  {
   "cell_type": "code",
   "execution_count": 14,
   "metadata": {},
   "outputs": [
    {
     "name": "stdout",
     "output_type": "stream",
     "text": [
      "solution for: NLDS21\n",
      "objective: 98000.000\n",
      "y112 = 200.000\n",
      "y212 = 240.000\n",
      "solution for: NLDS22\n",
      "objective: 98000.000\n",
      "y122 = 200.000\n",
      "y222 = 240.000\n",
      "solution for: NLDS23\n",
      "objective: 98000.000\n",
      "y132 = 200.000\n",
      "y232 = 240.000\n"
     ]
    },
    {
     "data": {
      "text/plain": [
       "{'NLDS21': [0, 238.0, 210.0, 0, 0, 0],\n",
       " 'NLDS22': [0, 238.0, 210.0, 0, 0, 0],\n",
       " 'NLDS23': [0, 238.0, 210.0, 0, 0, 0]}"
      ]
     },
     "execution_count": 14,
     "metadata": {},
     "output_type": "execute_result"
    }
   ],
   "source": [
    "pi_NLDS2={}\n",
    "for s in range(1,4):\n",
    "    NLDS2=Model(name='NLDS2{}'.format(s))\n",
    "    #variables\n",
    "    x=NLDS2.continuous_var_matrix(range(1,4),range(1,3),name='x',key_format='%s')\n",
    "    teta2=NLDS2.continuous_var_list(range(1,4),name='teta2',key_format='%s')\n",
    "    y=NLDS2.continuous_var_cube(range(1,3),range(1,4),range(2,4),name='y',key_format='%s')\n",
    "    w=NLDS2.continuous_var_cube(range(1,5),range(1,4),range(2,4),name='w',key_format='%s')\n",
    "    #constraints\n",
    "    NLDS2.add_constraint_(-x[1,2]-x[2,2]-x[3,2]>=-500,'a')\n",
    "    NLDS2.add_constraint_(y[1,s,2]-w[1,s,2]>=200,'b')\n",
    "    NLDS2.add_constraint_(y[2,s,2]-w[2,s,2]>=240,'c')\n",
    "    NLDS2.add_constraint_(-w[3,s,2]-w[4,s,2]>=0,'d')\n",
    "    NLDS2.add_constraint_(-w[3,s,2]>=-6000,'e')\n",
    "    NLDS2.add_constraint_(-x[3,2]>=0,'f')\n",
    "    NLDS2.add_constraint_(teta2[s-1]==0)\n",
    "    #objective function\n",
    "    NLDS2.minimize(150*x[1,2]+230*x[2,2]+260*x[3,2]+sum(buy[i-1]*y[i,s,2] for i in range(1,3))+\n",
    "                sum(sell[j-1]*w[j,s,2] for j in range(1,5))+teta2[s-1])\n",
    "    sol=NLDS2.solve()\n",
    "    sol.display()\n",
    "    simplex=[]\n",
    "    simplex.append(np.array(NLDS2.dual_values(NLDS2.find_matching_linear_constraints('a'))).item())\n",
    "    simplex.append(np.array(NLDS2.dual_values(NLDS2.find_matching_linear_constraints('b'))).item())\n",
    "    simplex.append(np.array(NLDS2.dual_values(NLDS2.find_matching_linear_constraints('c'))).item())\n",
    "    simplex.append(np.array(NLDS2.dual_values(NLDS2.find_matching_linear_constraints('d'))).item())\n",
    "    simplex.append(np.array(NLDS2.dual_values(NLDS2.find_matching_linear_constraints('e'))).item())\n",
    "    simplex.append(np.array(NLDS2.dual_values(NLDS2.find_matching_linear_constraints('f'))).item())\n",
    "    pi_NLDS2['NLDS2{}'.format(s)]=simplex\n",
    "#print simplex multiplires for each problem\n",
    "pi_NLDS2"
   ]
  },
  {
   "cell_type": "markdown",
   "metadata": {},
   "source": [
    "#### NLDS(3,k)"
   ]
  },
  {
   "cell_type": "code",
   "execution_count": 257,
   "metadata": {},
   "outputs": [
    {
     "name": "stdout",
     "output_type": "stream",
     "text": [
      "solution for: NLDS31\n",
      "objective: 98000.000\n",
      "y113 = 200.000\n",
      "y213 = 240.000\n",
      "solution for: NLDS32\n",
      "objective: 98000.000\n",
      "y123 = 200.000\n",
      "y223 = 240.000\n",
      "solution for: NLDS33\n",
      "objective: 98000.000\n",
      "y133 = 200.000\n",
      "y233 = 240.000\n",
      "solution for: NLDS34\n",
      "objective: 98000.000\n",
      "y143 = 200.000\n",
      "y243 = 240.000\n",
      "solution for: NLDS35\n",
      "objective: 98000.000\n",
      "y153 = 200.000\n",
      "y253 = 240.000\n",
      "solution for: NLDS36\n",
      "objective: 98000.000\n",
      "y163 = 200.000\n",
      "y263 = 240.000\n",
      "solution for: NLDS37\n",
      "objective: 98000.000\n",
      "y173 = 200.000\n",
      "y273 = 240.000\n",
      "solution for: NLDS38\n",
      "objective: 98000.000\n",
      "y183 = 200.000\n",
      "y283 = 240.000\n",
      "solution for: NLDS39\n",
      "objective: 98000.000\n",
      "y193 = 200.000\n",
      "y293 = 240.000\n"
     ]
    },
    {
     "data": {
      "text/plain": [
       "{'NLDS31': [238.0, 210.0, 0, 0],\n",
       " 'NLDS32': [238.0, 210.0, 0, 0],\n",
       " 'NLDS33': [238.0, 210.0, 0, 0],\n",
       " 'NLDS34': [238.0, 210.0, 0, 0],\n",
       " 'NLDS35': [238.0, 210.0, 0, 0],\n",
       " 'NLDS36': [238.0, 210.0, 0, 0],\n",
       " 'NLDS37': [238.0, 210.0, 0, 0],\n",
       " 'NLDS38': [238.0, 210.0, 0, 0],\n",
       " 'NLDS39': [238.0, 210.0, 0, 0]}"
      ]
     },
     "execution_count": 257,
     "metadata": {},
     "output_type": "execute_result"
    }
   ],
   "source": [
    "pi_NLDS3={}\n",
    "for s in range(1,10):\n",
    "    NLDS3=Model(name='NLDS3{}'.format(s))\n",
    "    #variables\n",
    "    teta3=NLDS3.continuous_var_list(range(1,10),name='teta2',key_format='%s')\n",
    "    y=NLDS3.continuous_var_cube(range(1,3),range(1,10),range(2,4),name='y',key_format='%s')\n",
    "    w=NLDS3.continuous_var_cube(range(1,5),range(1,10),range(2,4),name='w',key_format='%s')\n",
    "    #constraints\n",
    "    NLDS3.add_constraint_(y[1,s,3]-w[1,s,2]>=200,'a')\n",
    "    NLDS3.add_constraint_(y[2,s,3]-w[2,s,3]>=240,'b')\n",
    "    NLDS3.add_constraint_(-w[3,s,3]-w[4,s,3]>=0,'c')\n",
    "    NLDS3.add_constraint_(-w[3,s,3]>=-6000,'d')\n",
    "    NLDS3.add_constraint_(teta3[s-1]==0)\n",
    "    #objective function\n",
    "    NLDS3.minimize(sum(buy[i-1]*y[i,s,3] for i in range(1,3))+\n",
    "                sum(sell[j-1]*w[j,s,3] for j in range(1,5))+teta3[s-1])\n",
    "    sol=NLDS3.solve()\n",
    "    sol.display()\n",
    "    simplex=[]\n",
    "    simplex.append(np.array(NLDS3.dual_values(NLDS3.find_matching_linear_constraints('a'))).item())\n",
    "    simplex.append(np.array(NLDS3.dual_values(NLDS3.find_matching_linear_constraints('b'))).item())\n",
    "    simplex.append(np.array(NLDS3.dual_values(NLDS3.find_matching_linear_constraints('c'))).item())\n",
    "    simplex.append(np.array(NLDS3.dual_values(NLDS3.find_matching_linear_constraints('d'))).item())\n",
    "    pi_NLDS3['NLDS3{}'.format(s)]=simplex\n",
    "#print simplex multiplires for each problem\n",
    "pi_NLDS3"
   ]
  },
  {
   "cell_type": "markdown",
   "metadata": {},
   "source": [
    "#### گام دوم dir=back"
   ]
  },
  {
   "cell_type": "code",
   "execution_count": 260,
   "metadata": {},
   "outputs": [
    {
     "name": "stdout",
     "output_type": "stream",
     "text": [
      "E21: [[595. 630.   0.]]\n",
      "e21: [[98000.]]\n"
     ]
    }
   ],
   "source": [
    "#t-1=2\n",
    "T21=np.array([[3,0,0],[0,3.6,0],[0,0,24],[0,0,0]])\n",
    "T22=np.array([[2.5,0,0],[0,3,0],[0,0,20],[0,0,0]])\n",
    "T23=np.array([[2,0,0],[0,2.4,0],[0,0,16],[0,0,0]])\n",
    "pi31=np.array(pi_NLDS3['NLDS31']).reshape(1,4)\n",
    "pi32=np.array(pi_NLDS3['NLDS32']).reshape(1,4)\n",
    "pi33=np.array(pi_NLDS3['NLDS33']).reshape(1,4)\n",
    "E21=(1/3)*np.matmul(pi31,T21)+(1/3)*np.matmul(pi32,T22)+(1/3)*np.matmul(pi33,T23)\n",
    "print('E21:',E21)\n",
    "#E22 and E23 will be the same as E21\n",
    "h31=np.array([200,240,0,-6000]).reshape(4,1)\n",
    "h32=h31\n",
    "h33=h31\n",
    "e21=(1/3)*np.matmul(pi31,h31)+(1/3)*np.matmul(pi32,h32)+(1/3)*np.matmul(pi33,h33)\n",
    "print('e21:',e21)"
   ]
  },
  {
   "cell_type": "code",
   "execution_count": 174,
   "metadata": {},
   "outputs": [],
   "source": [
    "#define cuts\n",
    "#595x[1,2]+630x[2,2]+teta21>=98000\n",
    "#remove teta21==0 constraint"
   ]
  },
  {
   "cell_type": "markdown",
   "metadata": {},
   "source": [
    "#### NLDS(2,k)"
   ]
  },
  {
   "cell_type": "code",
   "execution_count": 265,
   "metadata": {},
   "outputs": [
    {
     "name": "stdout",
     "output_type": "stream",
     "text": [
      "solution for: NLDS21\n",
      "objective: -26500.000\n",
      "x12 = 500.000\n",
      "teta21 = -199500.000\n",
      "y112 = 200.000\n",
      "y212 = 240.000\n",
      "solution for: NLDS22\n",
      "objective: -26500.000\n",
      "x12 = 500.000\n",
      "teta22 = -199500.000\n",
      "y122 = 200.000\n",
      "y222 = 240.000\n",
      "solution for: NLDS23\n",
      "objective: -26500.000\n",
      "x12 = 500.000\n",
      "teta23 = -199500.000\n",
      "y132 = 200.000\n",
      "y232 = 240.000\n",
      "{'NLDS21': [445.0, 238.0, 210.0, 0, 0, 0], 'NLDS22': [445.0, 238.0, 210.0, 0, 0, 0], 'NLDS23': [445.0, 238.0, 210.0, 0, 0, 0]}\n",
      "{'NLDS21': 1.0, 'NLDS22': 1.0, 'NLDS23': 1.0}\n"
     ]
    }
   ],
   "source": [
    "pi_NLDS2={}\n",
    "sigma_NLDS2={}\n",
    "for s in range(1,4):\n",
    "    NLDS2=Model(name='NLDS2{}'.format(s))\n",
    "    #variables\n",
    "    x=NLDS2.continuous_var_matrix(range(1,4),range(1,3),name='x',key_format='%s')\n",
    "    teta2=NLDS2.continuous_var_list(range(1,4),lb=-inf,name='teta2',key_format='%s')\n",
    "    y=NLDS2.continuous_var_cube(range(1,3),range(1,4),range(2,4),name='y',key_format='%s')\n",
    "    w=NLDS2.continuous_var_cube(range(1,5),range(1,4),range(2,4),name='w',key_format='%s')\n",
    "    #constraints\n",
    "    NLDS2.add_constraint_(-x[1,2]-x[2,2]-x[3,2]>=-500,'a')\n",
    "    NLDS2.add_constraint_(y[1,s,2]-w[1,s,2]>=200,'b')\n",
    "    NLDS2.add_constraint_(y[2,s,2]-w[2,s,2]>=240,'c')\n",
    "    NLDS2.add_constraint_(-w[3,s,2]-w[4,s,2]>=0,'d')\n",
    "    NLDS2.add_constraint_(-w[3,s,2]>=-6000,'e')\n",
    "    NLDS2.add_constraint_(-x[3,2]>=0,'f')\n",
    "    NLDS2.add_constraint_(595*x[1,2]+630*x[2,2]+teta2[s-1]>=98000,'g')\n",
    "    #objective function\n",
    "    NLDS2.minimize(150*x[1,2]+230*x[2,2]+260*x[3,2]+sum(buy[i-1]*y[i,s,2] for i in range(1,3))+\n",
    "                sum(sell[j-1]*w[j,s,2] for j in range(1,5))+teta2[s-1])\n",
    "    sol=NLDS2.solve()\n",
    "    sol.display()\n",
    "    simplex=[]\n",
    "    simplex.append(np.array(NLDS2.dual_values(NLDS2.find_matching_linear_constraints('a'))).item())\n",
    "    simplex.append(np.array(NLDS2.dual_values(NLDS2.find_matching_linear_constraints('b'))).item())\n",
    "    simplex.append(np.array(NLDS2.dual_values(NLDS2.find_matching_linear_constraints('c'))).item())\n",
    "    simplex.append(np.array(NLDS2.dual_values(NLDS2.find_matching_linear_constraints('d'))).item())\n",
    "    simplex.append(np.array(NLDS2.dual_values(NLDS2.find_matching_linear_constraints('e'))).item())\n",
    "    simplex.append(np.array(NLDS2.dual_values(NLDS2.find_matching_linear_constraints('f'))).item())\n",
    "    pi_NLDS2['NLDS2{}'.format(s)]=simplex\n",
    "    sigma_NLDS2['NLDS2{}'.format(s)]=np.array(NLDS2.dual_values(NLDS2.find_matching_linear_constraints('g'))).item()\n",
    "#print simplex multiplires for each problem\n",
    "print(pi_NLDS2)\n",
    "print(sigma_NLDS2)"
   ]
  },
  {
   "cell_type": "markdown",
   "metadata": {},
   "source": [
    "#### دور دوم - گام دوم dir=back"
   ]
  },
  {
   "cell_type": "code",
   "execution_count": 266,
   "metadata": {},
   "outputs": [
    {
     "name": "stdout",
     "output_type": "stream",
     "text": [
      "E11: [[1112.5  714.  4200. ]]\n",
      "e11: [[-124500.]]\n"
     ]
    }
   ],
   "source": [
    "#t-1=1\n",
    "T11=np.array([[3,0,0],[0,3.6,0],[0,0,24],[0,0,0],[0,0,0],[0,0,0]])\n",
    "T12=np.array([[2.5,0,0],[0,3,0],[0,0,20],[0,0,0],[0,0,0],[0,0,0]])\n",
    "T13=np.array([[2,0,0],[0,2.4,0],[0,0,16],[0,0,0],[0,0,0],[0,0,0]])\n",
    "pi21=np.array(pi_NLDS2['NLDS21']).reshape(1,6)\n",
    "pi22=np.array(pi_NLDS2['NLDS22']).reshape(1,6)\n",
    "pi23=np.array(pi_NLDS2['NLDS23']).reshape(1,6)\n",
    "E11=(1/3)*np.matmul(pi21,T11)+(1/3)*np.matmul(pi22,T12)+(1/3)*np.matmul(pi23,T13)\n",
    "print('E11:',E11)\n",
    "#E22 and E23 will be the same as E21\n",
    "h21=np.array([-500,200,240,0,-6000,0]).reshape(6,1)\n",
    "h22=h21\n",
    "h23=h21\n",
    "e11=(1/3)*np.matmul(pi21,h21)+(1/3)*np.matmul(pi22,h22)+(1/3)*np.matmul(pi23,h23)\n",
    "print('e11:',e11)"
   ]
  },
  {
   "cell_type": "code",
   "execution_count": null,
   "metadata": {},
   "outputs": [],
   "source": [
    "#define cuts\n",
    "#1112.5x[1,1]+714[2,1]+4200x[3,1]+teta1>=-124500\n",
    "#remove teta21==0 constraint"
   ]
  },
  {
   "cell_type": "markdown",
   "metadata": {},
   "source": [
    "#### دور سوم - گام اول dir=Forward"
   ]
  },
  {
   "cell_type": "markdown",
   "metadata": {},
   "source": [
    "NLDS(1)"
   ]
  },
  {
   "cell_type": "code",
   "execution_count": 263,
   "metadata": {},
   "outputs": [
    {
     "name": "stdout",
     "output_type": "stream",
     "text": [
      "objective: -2094500.000\n",
      "  x11=0.000\n",
      "  x21=0.000\n",
      "  x31=500.000\n",
      "  teta1=-2224500.000\n"
     ]
    }
   ],
   "source": [
    "NLDS1=Model(name='NLDS')\n",
    "x=NLDS1.continuous_var_matrix(range(1,4),range(1,2),name='x',key_format='%s')\n",
    "teta1=NLDS1.continuous_var(lb=-inf,name='teta1')\n",
    "NLDS1.add_constraint_(-x[1,1]-x[2,1]-x[3,1]>=-500)\n",
    "NLDS1.add_constraint_(1112.5*x[1,1]+714*x[2,1]+4200*x[3,1]+teta1>=-124500)\n",
    "NLDS1.minimize(150*x[1,1]+230*x[2,1]+260*x[3,1]+teta1)\n",
    "sol=NLDS1.solve()\n",
    "NLDS1.print_solution(print_zeros=True)\n",
    "#sol.get_value_dict(x)\n"
   ]
  },
  {
   "cell_type": "code",
   "execution_count": 267,
   "metadata": {},
   "outputs": [
    {
     "name": "stdout",
     "output_type": "stream",
     "text": [
      "solution for: NLDS21\n",
      "objective: -26500.000\n",
      "x12 = 500.000\n",
      "teta21 = -199500.000\n",
      "y112 = 200.000\n",
      "y212 = 240.000\n",
      "solution for: NLDS22\n",
      "objective: -26500.000\n",
      "x12 = 500.000\n",
      "teta22 = -199500.000\n",
      "y122 = 200.000\n",
      "y222 = 240.000\n",
      "solution for: NLDS23\n",
      "objective: -26500.000\n",
      "x12 = 500.000\n",
      "teta23 = -199500.000\n",
      "y132 = 200.000\n",
      "y232 = 240.000\n",
      "{'NLDS21': [445.0, 238.0, 210.0, 0, 0, 0], 'NLDS22': [445.0, 238.0, 210.0, 0, 0, 0], 'NLDS23': [445.0, 238.0, 210.0, 0, 0, 0]}\n",
      "{'NLDS21': 1.0, 'NLDS22': 1.0, 'NLDS23': 1.0}\n"
     ]
    }
   ],
   "source": [
    "pi_NLDS2={}\n",
    "sigma_NLDS2={}\n",
    "for s in range(1,4):\n",
    "    NLDS2=Model(name='NLDS2{}'.format(s))\n",
    "    #variables\n",
    "    x=NLDS2.continuous_var_matrix(range(1,4),range(1,3),name='x',key_format='%s')\n",
    "    teta2=NLDS2.continuous_var_list(range(1,4),lb=-inf,name='teta2',key_format='%s')\n",
    "    y=NLDS2.continuous_var_cube(range(1,3),range(1,4),range(2,4),name='y',key_format='%s')\n",
    "    w=NLDS2.continuous_var_cube(range(1,5),range(1,4),range(2,4),name='w',key_format='%s')\n",
    "    #constraints\n",
    "    NLDS2.add_constraint_(-x[1,2]-x[2,2]-x[3,2]>=-500,'a')\n",
    "    NLDS2.add_constraint_(y[1,s,2]-w[1,s,2]>=200,'b')\n",
    "    NLDS2.add_constraint_(y[2,s,2]-w[2,s,2]>=240,'c')\n",
    "    NLDS2.add_constraint_(yields[3][s-1]*500-w[3,s,2]-w[4,s,2]>=0,'d')\n",
    "    NLDS2.add_constraint_(-w[3,s,2]>=-6000,'e')\n",
    "    NLDS2.add_constraint_(-x[3,2]>=0,'f')\n",
    "    NLDS2.add_constraint_(595*x[1,2]+630*x[2,2]+teta2[s-1]>=98000,'g')\n",
    "    #objective function\n",
    "    NLDS2.minimize(150*x[1,2]+230*x[2,2]+260*x[3,2]+sum(buy[i-1]*y[i,s,2] for i in range(1,3))+\n",
    "                sum(sell[j-1]*w[j,s,2] for j in range(1,5))+teta2[s-1])\n",
    "    sol=NLDS2.solve()\n",
    "    sol.display()\n",
    "    simplex=[]\n",
    "    simplex.append(np.array(NLDS2.dual_values(NLDS2.find_matching_linear_constraints('a'))).item())\n",
    "    simplex.append(np.array(NLDS2.dual_values(NLDS2.find_matching_linear_constraints('b'))).item())\n",
    "    simplex.append(np.array(NLDS2.dual_values(NLDS2.find_matching_linear_constraints('c'))).item())\n",
    "    simplex.append(np.array(NLDS2.dual_values(NLDS2.find_matching_linear_constraints('d'))).item())\n",
    "    simplex.append(np.array(NLDS2.dual_values(NLDS2.find_matching_linear_constraints('e'))).item())\n",
    "    simplex.append(np.array(NLDS2.dual_values(NLDS2.find_matching_linear_constraints('f'))).item())\n",
    "    pi_NLDS2['NLDS2{}'.format(s)]=simplex\n",
    "    sigma_NLDS2['NLDS2{}'.format(s)]=np.array(NLDS2.dual_values(NLDS2.find_matching_linear_constraints('g'))).item()\n",
    "#print simplex multiplires for each problem\n",
    "print(pi_NLDS2)\n",
    "print(sigma_NLDS2)"
   ]
  },
  {
   "cell_type": "code",
   "execution_count": 268,
   "metadata": {},
   "outputs": [
    {
     "name": "stdout",
     "output_type": "stream",
     "text": [
      "solution for: NLDS31\n",
      "objective: 50400.000\n",
      "y213 = 240.000\n",
      "solution for: NLDS32\n",
      "objective: 50400.000\n",
      "y223 = 240.000\n",
      "solution for: NLDS33\n",
      "objective: 50400.000\n",
      "y233 = 240.000\n",
      "solution for: NLDS34\n",
      "objective: 50400.000\n",
      "y243 = 240.000\n",
      "solution for: NLDS35\n",
      "objective: 50400.000\n",
      "y253 = 240.000\n",
      "solution for: NLDS36\n",
      "objective: 50400.000\n",
      "y263 = 240.000\n",
      "solution for: NLDS37\n",
      "objective: 50400.000\n",
      "y273 = 240.000\n",
      "solution for: NLDS38\n",
      "objective: 50400.000\n",
      "y283 = 240.000\n",
      "solution for: NLDS39\n",
      "objective: 50400.000\n",
      "y293 = 240.000\n"
     ]
    },
    {
     "data": {
      "text/plain": [
       "{'NLDS31': [0, 210.0, 0, 0],\n",
       " 'NLDS32': [0, 210.0, 0, 0],\n",
       " 'NLDS33': [0, 210.0, 0, 0],\n",
       " 'NLDS34': [0, 210.0, 0, 0],\n",
       " 'NLDS35': [0, 210.0, 0, 0],\n",
       " 'NLDS36': [0, 210.0, 0, 0],\n",
       " 'NLDS37': [0, 210.0, 0, 0],\n",
       " 'NLDS38': [0, 210.0, 0, 0],\n",
       " 'NLDS39': [0, 210.0, 0, 0]}"
      ]
     },
     "execution_count": 268,
     "metadata": {},
     "output_type": "execute_result"
    }
   ],
   "source": [
    "pi_NLDS3={}\n",
    "for s in range(1,10):\n",
    "    NLDS3=Model(name='NLDS3{}'.format(s))\n",
    "    #variables\n",
    "    teta3=NLDS3.continuous_var_list(range(1,10),name='teta2',key_format='%s')\n",
    "    y=NLDS3.continuous_var_cube(range(1,3),range(1,10),range(2,4),name='y',key_format='%s')\n",
    "    w=NLDS3.continuous_var_cube(range(1,5),range(1,10),range(2,4),name='w',key_format='%s')\n",
    "    #constraints\n",
    "    NLDS3.add_constraint_(500*yields[1][s-1]+y[1,s,3]-w[1,s,2]>=200,'a')\n",
    "    NLDS3.add_constraint_(y[2,s,3]-w[2,s,3]>=240,'b')\n",
    "    NLDS3.add_constraint_(-w[3,s,3]-w[4,s,3]>=0,'c')\n",
    "    NLDS3.add_constraint_(-w[3,s,3]>=-6000,'d')\n",
    "    NLDS3.add_constraint_(teta3[s-1]==0)\n",
    "    #objective function\n",
    "    NLDS3.minimize(sum(buy[i-1]*y[i,s,3] for i in range(1,3))+\n",
    "                sum(sell[j-1]*w[j,s,3] for j in range(1,5))+teta3[s-1])\n",
    "    sol=NLDS3.solve()\n",
    "    sol.display()\n",
    "    simplex=[]\n",
    "    simplex.append(np.array(NLDS3.dual_values(NLDS3.find_matching_linear_constraints('a'))).item())\n",
    "    simplex.append(np.array(NLDS3.dual_values(NLDS3.find_matching_linear_constraints('b'))).item())\n",
    "    simplex.append(np.array(NLDS3.dual_values(NLDS3.find_matching_linear_constraints('c'))).item())\n",
    "    simplex.append(np.array(NLDS3.dual_values(NLDS3.find_matching_linear_constraints('d'))).item())\n",
    "    pi_NLDS3['NLDS3{}'.format(s)]=simplex\n",
    "#print simplex multiplires for each problem\n",
    "pi_NLDS3"
   ]
  },
  {
   "cell_type": "markdown",
   "metadata": {},
   "source": [
    "#### دور سوم - گام دوم dir=backward"
   ]
  },
  {
   "cell_type": "code",
   "execution_count": 269,
   "metadata": {},
   "outputs": [
    {
     "name": "stdout",
     "output_type": "stream",
     "text": [
      "E21: [[  0. 630.   0.]]\n",
      "e21: [[50400.]]\n"
     ]
    }
   ],
   "source": [
    "#t-1=2\n",
    "T21=np.array([[3,0,0],[0,3.6,0],[0,0,24],[0,0,0]])\n",
    "T22=np.array([[2.5,0,0],[0,3,0],[0,0,20],[0,0,0]])\n",
    "T23=np.array([[2,0,0],[0,2.4,0],[0,0,16],[0,0,0]])\n",
    "pi31=np.array(pi_NLDS3['NLDS31']).reshape(1,4)\n",
    "pi32=np.array(pi_NLDS3['NLDS32']).reshape(1,4)\n",
    "pi33=np.array(pi_NLDS3['NLDS33']).reshape(1,4)\n",
    "E21=(1/3)*np.matmul(pi31,T21)+(1/3)*np.matmul(pi32,T22)+(1/3)*np.matmul(pi33,T23)\n",
    "print('E21:',E21)\n",
    "#E22 and E23 will be the same as E21\n",
    "h31=np.array([200,240,0,-6000]).reshape(4,1)\n",
    "h32=h31\n",
    "h33=h31\n",
    "e21=(1/3)*np.matmul(pi31,h31)+(1/3)*np.matmul(pi32,h32)+(1/3)*np.matmul(pi33,h33)\n",
    "print('e21:',e21)"
   ]
  },
  {
   "cell_type": "code",
   "execution_count": 270,
   "metadata": {},
   "outputs": [
    {
     "name": "stdout",
     "output_type": "stream",
     "text": [
      "optimality condition does not Hold so we continue\n"
     ]
    }
   ],
   "source": [
    "#check for optimality\n",
    "x12=np.array([[500,0,0]]).reshape(3,1)\n",
    "if e21-np.matmul(E21,x12)>-199500:\n",
    "    print('optimality condition does not Hold so we continue')"
   ]
  },
  {
   "cell_type": "code",
   "execution_count": 271,
   "metadata": {},
   "outputs": [],
   "source": [
    "#define cuts\n",
    "#add constraint below to NLDS(2,k)\n",
    "#630*x[2,2]+teta2[s-1]>=50400"
   ]
  },
  {
   "cell_type": "code",
   "execution_count": 272,
   "metadata": {},
   "outputs": [
    {
     "name": "stdout",
     "output_type": "stream",
     "text": [
      "solution for: NLDS21\n",
      "objective: -7600.000\n",
      "x12 = 80.000\n",
      "x22 = 420.000\n",
      "teta21 = -214200.000\n",
      "y112 = 200.000\n",
      "y212 = 240.000\n",
      "solution for: NLDS22\n",
      "objective: -7600.000\n",
      "x12 = 80.000\n",
      "x22 = 420.000\n",
      "teta22 = -214200.000\n",
      "y122 = 200.000\n",
      "y222 = 240.000\n",
      "solution for: NLDS23\n",
      "objective: -7600.000\n",
      "x12 = 80.000\n",
      "x22 = 420.000\n",
      "teta23 = -214200.000\n",
      "y132 = 200.000\n",
      "y232 = 240.000\n",
      "{'NLDS21': [400.0, 238.0, 210.0, 0, 0, 0], 'NLDS22': [400.0, 238.0, 210.0, 0, 0, 0], 'NLDS23': [400.0, 238.0, 210.0, 0, 0, 0]}\n",
      "{'NLDS21': [0.9243697478991597, 0.07563025210084029], 'NLDS22': [0.9243697478991597, 0.07563025210084029], 'NLDS23': [0.9243697478991597, 0.07563025210084029]}\n"
     ]
    }
   ],
   "source": [
    "pi_NLDS2={}\n",
    "sigma_NLDS2={}\n",
    "for s in range(1,4):\n",
    "    NLDS2=Model(name='NLDS2{}'.format(s))\n",
    "    #variables\n",
    "    x=NLDS2.continuous_var_matrix(range(1,4),range(1,3),name='x',key_format='%s')\n",
    "    teta2=NLDS2.continuous_var_list(range(1,4),lb=-inf,name='teta2',key_format='%s')\n",
    "    y=NLDS2.continuous_var_cube(range(1,3),range(1,4),range(2,4),name='y',key_format='%s')\n",
    "    w=NLDS2.continuous_var_cube(range(1,5),range(1,4),range(2,4),name='w',key_format='%s')\n",
    "    #constraints\n",
    "    NLDS2.add_constraint_(-x[1,2]-x[2,2]-x[3,2]>=-500,'a')\n",
    "    NLDS2.add_constraint_(y[1,s,2]-w[1,s,2]>=200,'b')\n",
    "    NLDS2.add_constraint_(y[2,s,2]-w[2,s,2]>=240,'c')\n",
    "    NLDS2.add_constraint_(yields[3][s-1]*500-w[3,s,2]-w[4,s,2]>=0,'d')\n",
    "    NLDS2.add_constraint_(-w[3,s,2]>=-6000,'e')\n",
    "    NLDS2.add_constraint_(-x[3,2]+x[1,1]+x[2,1]>=0,'f')\n",
    "    NLDS2.add_constraint_(595*x[1,2]+630*x[2,2]+teta2[s-1]>=98000,'g')\n",
    "    NLDS2.add_constraint_(630*x[2,2]+teta2[s-1]>=50400,'h')\n",
    "    #objective function\n",
    "    NLDS2.minimize(150*x[1,2]+230*x[2,2]+260*x[3,2]+sum(buy[i-1]*y[i,s,2] for i in range(1,3))+\n",
    "                sum(sell[j-1]*w[j,s,2] for j in range(1,5))+teta2[s-1])\n",
    "    sol=NLDS2.solve()\n",
    "    sol.display()\n",
    "    simplex=[]\n",
    "    sigma=[]\n",
    "    simplex.append(np.array(NLDS2.dual_values(NLDS2.find_matching_linear_constraints('a'))).item())\n",
    "    simplex.append(np.array(NLDS2.dual_values(NLDS2.find_matching_linear_constraints('b'))).item())\n",
    "    simplex.append(np.array(NLDS2.dual_values(NLDS2.find_matching_linear_constraints('c'))).item())\n",
    "    simplex.append(np.array(NLDS2.dual_values(NLDS2.find_matching_linear_constraints('d'))).item())\n",
    "    simplex.append(np.array(NLDS2.dual_values(NLDS2.find_matching_linear_constraints('e'))).item())\n",
    "    simplex.append(np.array(NLDS2.dual_values(NLDS2.find_matching_linear_constraints('f'))).item())\n",
    "    sigma.append(np.array(NLDS2.dual_values(NLDS2.find_matching_linear_constraints('g'))).item())\n",
    "    sigma.append(np.array(NLDS2.dual_values(NLDS2.find_matching_linear_constraints('h'))).item())\n",
    "    pi_NLDS2['NLDS2{}'.format(s)]=simplex\n",
    "    sigma_NLDS2['NLDS2{}'.format(s)]=sigma\n",
    "#print simplex multiplires for each problem\n",
    "print(pi_NLDS2)\n",
    "print(sigma_NLDS2)"
   ]
  },
  {
   "cell_type": "code",
   "execution_count": 273,
   "metadata": {},
   "outputs": [
    {
     "name": "stdout",
     "output_type": "stream",
     "text": [
      "E11: [[1000.  714. 4200.]]\n",
      "e11: [[-102000.]]\n"
     ]
    }
   ],
   "source": [
    "#t-1=1\n",
    "T11=np.array([[3,0,0],[0,3.6,0],[0,0,24],[0,0,0],[0,0,0],[0,0,0]])\n",
    "T12=np.array([[2.5,0,0],[0,3,0],[0,0,20],[0,0,0],[0,0,0],[0,0,0]])\n",
    "T13=np.array([[2,0,0],[0,2.4,0],[0,0,16],[0,0,0],[0,0,0],[0,0,0]])\n",
    "pi21=np.array(pi_NLDS2['NLDS21']).reshape(1,6)\n",
    "pi22=np.array(pi_NLDS2['NLDS22']).reshape(1,6)\n",
    "pi23=np.array(pi_NLDS2['NLDS23']).reshape(1,6)\n",
    "\n",
    "E11=(1/3)*np.matmul(pi21,T11)+(1/3)*np.matmul(pi22,T12)+(1/3)*np.matmul(pi23,T13)\n",
    "print('E11:',E11)\n",
    "#E22 and E23 will be the same as E21\n",
    "h21=np.array([-500,200,240,0,-6000,0]).reshape(6,1)\n",
    "h22=h21\n",
    "h23=h21\n",
    "e11=(1/3)*np.matmul(pi21,h21)+(1/3)*np.matmul(pi22,h22)+(1/3)*np.matmul(pi23,h23)\n",
    "print('e11:',e11)"
   ]
  },
  {
   "cell_type": "code",
   "execution_count": 274,
   "metadata": {},
   "outputs": [
    {
     "name": "stdout",
     "output_type": "stream",
     "text": [
      "optimality condition does not Hold so we continue\n"
     ]
    }
   ],
   "source": [
    "#check for optimality\n",
    "x1=np.array([[0,0,500]]).reshape(3,1)\n",
    "if e11-np.matmul(E11,x1)>-2224500:\n",
    "    print('optimality condition does not Hold so we continue')\n",
    "else:\n",
    "    print('yep we did it')"
   ]
  },
  {
   "cell_type": "code",
   "execution_count": 275,
   "metadata": {},
   "outputs": [],
   "source": [
    "#add the cut below and change dir to Forward\n",
    "#1000x1+714x2+4200x3+teta1>=-102000"
   ]
  },
  {
   "cell_type": "code",
   "execution_count": 276,
   "metadata": {},
   "outputs": [
    {
     "name": "stdout",
     "output_type": "stream",
     "text": [
      "objective: -2072000.000\n",
      "  x11=0.000\n",
      "  x21=0.000\n",
      "  x31=500.000\n",
      "  teta1=-2202000.000\n"
     ]
    }
   ],
   "source": [
    "NLDS1=Model(name='NLDS')\n",
    "x=NLDS1.continuous_var_matrix(range(1,4),range(1,2),name='x',key_format='%s')\n",
    "teta1=NLDS1.continuous_var(lb=-inf,name='teta1')\n",
    "NLDS1.add_constraint_(-x[1,1]-x[2,1]-x[3,1]>=-500)\n",
    "NLDS1.add_constraint_(1112.5*x[1,1]+714*x[2,1]+4200*x[3,1]+teta1>=-124500)\n",
    "NLDS1.add_constraint_(1000*x[1,1]+714*x[2,1]+4200*x[3,1]+teta1>=-102000)\n",
    "NLDS1.minimize(150*x[1,1]+230*x[2,1]+260*x[3,1]+teta1)\n",
    "sol=NLDS1.solve()\n",
    "NLDS1.print_solution(print_zeros=True)\n",
    "#sol.get_value_dict(x)\n"
   ]
  },
  {
   "cell_type": "code",
   "execution_count": 278,
   "metadata": {},
   "outputs": [
    {
     "name": "stdout",
     "output_type": "stream",
     "text": [
      "solution for: NLDS21\n",
      "objective: -7600.000\n",
      "x12 = 80.000\n",
      "x22 = 420.000\n",
      "teta21 = -214200.000\n",
      "y112 = 200.000\n",
      "y212 = 240.000\n",
      "solution for: NLDS22\n",
      "objective: -7600.000\n",
      "x12 = 80.000\n",
      "x22 = 420.000\n",
      "teta22 = -214200.000\n",
      "y122 = 200.000\n",
      "y222 = 240.000\n",
      "solution for: NLDS23\n",
      "objective: -7600.000\n",
      "x12 = 80.000\n",
      "x22 = 420.000\n",
      "teta23 = -214200.000\n",
      "y132 = 200.000\n",
      "y232 = 240.000\n",
      "{'NLDS21': [400.0, 238.0, 210.0, 0, 0, 0], 'NLDS22': [400.0, 238.0, 210.0, 0, 0, 0], 'NLDS23': [400.0, 238.0, 210.0, 0, 0, 0]}\n",
      "{'NLDS21': [0.9243697478991597, 0.07563025210084029], 'NLDS22': [0.9243697478991597, 0.07563025210084029], 'NLDS23': [0.9243697478991597, 0.07563025210084029]}\n"
     ]
    }
   ],
   "source": [
    "pi_NLDS2={}\n",
    "sigma_NLDS2={}\n",
    "for s in range(1,4):\n",
    "    NLDS2=Model(name='NLDS2{}'.format(s))\n",
    "    #variables\n",
    "    x=NLDS2.continuous_var_matrix(range(1,4),range(1,3),name='x',key_format='%s')\n",
    "    teta2=NLDS2.continuous_var_list(range(1,4),lb=-inf,name='teta2',key_format='%s')\n",
    "    y=NLDS2.continuous_var_cube(range(1,3),range(1,4),range(2,4),name='y',key_format='%s')\n",
    "    w=NLDS2.continuous_var_cube(range(1,5),range(1,4),range(2,4),name='w',key_format='%s')\n",
    "    #constraints\n",
    "    NLDS2.add_constraint_(-x[1,2]-x[2,2]-x[3,2]>=-500,'a')\n",
    "    NLDS2.add_constraint_(y[1,s,2]-w[1,s,2]>=200,'b')\n",
    "    NLDS2.add_constraint_(y[2,s,2]-w[2,s,2]>=240,'c')\n",
    "    NLDS2.add_constraint_(yields[3][s-1]*500-w[3,s,2]-w[4,s,2]>=0,'d')\n",
    "    NLDS2.add_constraint_(-w[3,s,2]>=-6000,'e')\n",
    "    NLDS2.add_constraint_(-x[3,2]>=0,'f')\n",
    "    NLDS2.add_constraint_(595*x[1,2]+630*x[2,2]+teta2[s-1]>=98000,'g')\n",
    "    NLDS2.add_constraint_(630*x[2,2]+teta2[s-1]>=50400,'h')\n",
    "    #objective function\n",
    "    NLDS2.minimize(150*x[1,2]+230*x[2,2]+260*x[3,2]+sum(buy[i-1]*y[i,s,2] for i in range(1,3))+\n",
    "                sum(sell[j-1]*w[j,s,2] for j in range(1,5))+teta2[s-1])\n",
    "    sol=NLDS2.solve()\n",
    "    sol.display()\n",
    "    simplex=[]\n",
    "    sigma=[]\n",
    "    simplex.append(np.array(NLDS2.dual_values(NLDS2.find_matching_linear_constraints('a'))).item())\n",
    "    simplex.append(np.array(NLDS2.dual_values(NLDS2.find_matching_linear_constraints('b'))).item())\n",
    "    simplex.append(np.array(NLDS2.dual_values(NLDS2.find_matching_linear_constraints('c'))).item())\n",
    "    simplex.append(np.array(NLDS2.dual_values(NLDS2.find_matching_linear_constraints('d'))).item())\n",
    "    simplex.append(np.array(NLDS2.dual_values(NLDS2.find_matching_linear_constraints('e'))).item())\n",
    "    simplex.append(np.array(NLDS2.dual_values(NLDS2.find_matching_linear_constraints('f'))).item())\n",
    "    sigma.append(np.array(NLDS2.dual_values(NLDS2.find_matching_linear_constraints('g'))).item())\n",
    "    sigma.append(np.array(NLDS2.dual_values(NLDS2.find_matching_linear_constraints('h'))).item())\n",
    "    pi_NLDS2['NLDS2{}'.format(s)]=simplex\n",
    "    sigma_NLDS2['NLDS2{}'.format(s)]=sigma\n",
    "#print simplex multiplires for each problem\n",
    "print(pi_NLDS2)\n",
    "print(sigma_NLDS2)"
   ]
  },
  {
   "cell_type": "code",
   "execution_count": 280,
   "metadata": {},
   "outputs": [
    {
     "name": "stdout",
     "output_type": "stream",
     "text": [
      "solution for: NLDS31\n",
      "objective: 0.000\n",
      "solution for: NLDS32\n",
      "objective: 0.000\n",
      "solution for: NLDS33\n",
      "objective: 9520.000\n",
      "y133 = 40.000\n",
      "solution for: NLDS34\n",
      "objective: 0.000\n",
      "solution for: NLDS35\n",
      "objective: 0.000\n",
      "solution for: NLDS36\n",
      "objective: 9520.000\n",
      "y163 = 40.000\n",
      "solution for: NLDS37\n",
      "objective: 0.000\n",
      "solution for: NLDS38\n",
      "objective: 0.000\n",
      "solution for: NLDS39\n",
      "objective: 9520.000\n",
      "y193 = 40.000\n"
     ]
    },
    {
     "data": {
      "text/plain": [
       "{'NLDS31': [0, 0, 0, 0],\n",
       " 'NLDS32': [238.0, 0, 0, 0],\n",
       " 'NLDS33': [238.0, 0, 0, 0],\n",
       " 'NLDS34': [0, 0, 0, 0],\n",
       " 'NLDS35': [238.0, 0, 0, 0],\n",
       " 'NLDS36': [238.0, 0, 0, 0],\n",
       " 'NLDS37': [0, 0, 0, 0],\n",
       " 'NLDS38': [238.0, 0, 0, 0],\n",
       " 'NLDS39': [238.0, 0, 0, 0]}"
      ]
     },
     "execution_count": 280,
     "metadata": {},
     "output_type": "execute_result"
    }
   ],
   "source": [
    "pi_NLDS3={}\n",
    "for s in range(1,10):\n",
    "    NLDS3=Model(name='NLDS3{}'.format(s))\n",
    "    #variables\n",
    "    teta3=NLDS3.continuous_var_list(range(1,10),name='teta2',key_format='%s')\n",
    "    y=NLDS3.continuous_var_cube(range(1,3),range(1,10),range(2,4),name='y',key_format='%s')\n",
    "    w=NLDS3.continuous_var_cube(range(1,5),range(1,10),range(2,4),name='w',key_format='%s')\n",
    "    #constraints\n",
    "    NLDS3.add_constraint_(80*yields[1][s-1]+y[1,s,3]-w[1,s,2]>=200,'a')\n",
    "    NLDS3.add_constraint_(420*yields[2][s-1]+y[2,s,3]-w[2,s,3]>=240,'b')\n",
    "    NLDS3.add_constraint_(-w[3,s,3]-w[4,s,3]>=0,'c')\n",
    "    NLDS3.add_constraint_(-w[3,s,3]>=-6000,'d')\n",
    "    NLDS3.add_constraint_(teta3[s-1]==0)\n",
    "    #objective function\n",
    "    NLDS3.minimize(sum(buy[i-1]*y[i,s,3] for i in range(1,3))+\n",
    "                sum(sell[j-1]*w[j,s,3] for j in range(1,5))+teta3[s-1])\n",
    "    sol=NLDS3.solve()\n",
    "    sol.display()\n",
    "    simplex=[]\n",
    "    simplex.append(np.array(NLDS3.dual_values(NLDS3.find_matching_linear_constraints('a'))).item())\n",
    "    simplex.append(np.array(NLDS3.dual_values(NLDS3.find_matching_linear_constraints('b'))).item())\n",
    "    simplex.append(np.array(NLDS3.dual_values(NLDS3.find_matching_linear_constraints('c'))).item())\n",
    "    simplex.append(np.array(NLDS3.dual_values(NLDS3.find_matching_linear_constraints('d'))).item())\n",
    "    pi_NLDS3['NLDS3{}'.format(s)]=simplex\n",
    "#print simplex multiplires for each problem\n",
    "pi_NLDS3"
   ]
  },
  {
   "cell_type": "code",
   "execution_count": 281,
   "metadata": {},
   "outputs": [
    {
     "name": "stdout",
     "output_type": "stream",
     "text": [
      "E21: [[357.   0.   0.]]\n",
      "e21: [[31733.33333333]]\n"
     ]
    }
   ],
   "source": [
    "#t-1=2\n",
    "T21=np.array([[3,0,0],[0,3.6,0],[0,0,24],[0,0,0]])\n",
    "T22=np.array([[2.5,0,0],[0,3,0],[0,0,20],[0,0,0]])\n",
    "T23=np.array([[2,0,0],[0,2.4,0],[0,0,16],[0,0,0]])\n",
    "pi31=np.array(pi_NLDS3['NLDS31']).reshape(1,4)\n",
    "pi32=np.array(pi_NLDS3['NLDS32']).reshape(1,4)\n",
    "pi33=np.array(pi_NLDS3['NLDS33']).reshape(1,4)\n",
    "E21=(1/3)*np.matmul(pi31,T21)+(1/3)*np.matmul(pi32,T22)+(1/3)*np.matmul(pi33,T23)\n",
    "print('E21:',E21)\n",
    "#E22 and E23 will be the same as E21\n",
    "h31=np.array([200,240,0,-6000]).reshape(4,1)\n",
    "h32=h31\n",
    "h33=h31\n",
    "e21=(1/3)*np.matmul(pi31,h31)+(1/3)*np.matmul(pi32,h32)+(1/3)*np.matmul(pi33,h33)\n",
    "print('e21:',e21)"
   ]
  }
 ],
 "metadata": {
  "interpreter": {
   "hash": "cc5f70855ac006f3de45a3cc3b9e7d8d53845e50458809cb162b0174266dec97"
  },
  "kernelspec": {
   "display_name": "Python 3.8.12 64-bit ('base': conda)",
   "language": "python",
   "name": "python3"
  },
  "language_info": {
   "codemirror_mode": {
    "name": "ipython",
    "version": 3
   },
   "file_extension": ".py",
   "mimetype": "text/x-python",
   "name": "python",
   "nbconvert_exporter": "python",
   "pygments_lexer": "ipython3",
   "version": "3.8.12"
  },
  "orig_nbformat": 4
 },
 "nbformat": 4,
 "nbformat_minor": 2
}
