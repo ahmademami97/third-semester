{
 "cells": [
  {
   "cell_type": "code",
   "execution_count": 1,
   "metadata": {},
   "outputs": [],
   "source": [
    "import pandas as pd\n",
    "import numpy as np\n",
    "import matplotlib.pyplot as plt\n",
    "import scipy.stats as scs\n",
    "from math import  inf"
   ]
  },
  {
   "cell_type": "code",
   "execution_count": null,
   "metadata": {},
   "outputs": [],
   "source": [
    "from docplex.mp.model import Model\n",
    "n=Model(name='farmer problem using reduced scenario')\n",
    "#parameters\n",
    "yields={1:[2,2.5,3] , 2:[2.4,3,3.6] , 3:[16,20,24]}\n",
    "probability={1:0.3 , 2:0.4 , 3:0.3}\n",
    "plant=[150,230,260]\n",
    "buy=[238,210]\n",
    "sell=[170, 150, 36, 10]\n",
    "#variables\n",
    "x=n.continuous_var_matrix(range(1,4),range(1,3),name='x',key_format='%s')\n",
    "y=n.continuous_var_cube(range(1,3),range(1,4),range(2,4),name='y',key_format='%s')\n",
    "w=n.continuous_var_cube(range(1,5),range(1,4),range(2,4),name='w',key_format='%s')\n",
    "#constraints"
   ]
  },
  {
   "cell_type": "code",
   "execution_count": null,
   "metadata": {},
   "outputs": [],
   "source": []
  },
  {
   "cell_type": "code",
   "execution_count": null,
   "metadata": {},
   "outputs": [],
   "source": []
  },
  {
   "cell_type": "code",
   "execution_count": null,
   "metadata": {},
   "outputs": [],
   "source": []
  }
 ],
 "metadata": {
  "interpreter": {
   "hash": "cc5f70855ac006f3de45a3cc3b9e7d8d53845e50458809cb162b0174266dec97"
  },
  "kernelspec": {
   "display_name": "Python 3.8.12 64-bit ('base': conda)",
   "language": "python",
   "name": "python3"
  },
  "language_info": {
   "codemirror_mode": {
    "name": "ipython",
    "version": 3
   },
   "file_extension": ".py",
   "mimetype": "text/x-python",
   "name": "python",
   "nbconvert_exporter": "python",
   "pygments_lexer": "ipython3",
   "version": "3.8.12"
  },
  "orig_nbformat": 4
 },
 "nbformat": 4,
 "nbformat_minor": 2
}
