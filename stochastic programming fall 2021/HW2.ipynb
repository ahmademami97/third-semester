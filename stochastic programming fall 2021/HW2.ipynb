{
 "cells": [
  {
   "cell_type": "markdown",
   "metadata": {},
   "source": [
    "### سوال یک  صفحه ی 50"
   ]
  },
  {
   "cell_type": "markdown",
   "metadata": {},
   "source": [
    "### stochastic program"
   ]
  },
  {
   "cell_type": "code",
   "execution_count": 1,
   "metadata": {},
   "outputs": [
    {
     "name": "stdout",
     "output_type": "stream",
     "text": [
      "solution for: Northam Airlines - stochastic\n",
      "objective: 208.333\n",
      "number of first class seats = 10\n",
      "number of business class seats = 20\n",
      "number of economy class seats = 150\n",
      "y11 = 10\n",
      "y12 = 10\n",
      "y13 = 5\n",
      "y21 = 20\n",
      "y22 = 20\n",
      "y23 = 10\n",
      "y31 = 150\n",
      "y32 = 150\n",
      "y33 = 150\n"
     ]
    }
   ],
   "source": [
    "from docplex.mp.model import Model\n",
    "m = Model(name='Northam Airlines - stochastic')\n",
    "# Variables\n",
    "#seats of type i in plane\n",
    "x=m.integer_var_list(keys=[1,2,3],name=['number of first class seats','number of business class seats','number of economy class seats'],\n",
    "key_format='%s')\n",
    "#seats of type i sold in senario j\n",
    "y_1=m.integer_var_list(keys=[11,12,13],name='y',key_format='%s')\n",
    "y_2=m.integer_var_list(keys=[21,22,23],name='y',key_format='%s')\n",
    "y_3=m.integer_var_list(keys=[31,32,33],name='y',key_format='%s')\n",
    "#get variable function\n",
    "def v(name):\n",
    "    return m.get_var_by_name(name=name)\n",
    "# Constraints\n",
    "m.add_constraint_(2*x[0]+1.5*x[1]+x[2]<=200)\n",
    "m.add_constraints_([v('y11')<=20 , v('y21')<=50 , v('y31')<=200])\n",
    "m.add_constraints_([v('y12')<=10 , v('y22')<=25 , v('y32')<=175])\n",
    "m.add_constraints_([v('y13')<=5 , v('y23')<=10 , v('y33')<=150])\n",
    "m.add_constraints_(y_1[i]<=x[0] for i in range(3))\n",
    "m.add_constraints_(y_2[i]<=x[1] for i in range(3))\n",
    "m.add_constraints_(y_3[i]<=x[2] for i in range(3))\n",
    "m.add_constraints_(x[i]>=0 for i in range(3))\n",
    "m.add_constraints_(y_1[i]>=0 for i in range(3))\n",
    "m.add_constraints_(y_2[i]>=0 for i in range(3))\n",
    "m.add_constraints_(y_3[i]>=0 for i in range(3))\n",
    "#comment out next line to calculate EEV\n",
    "#m.add_constraints_([x[0]==11 , x[1]==28 , x[2]==136])\n",
    "#objective function\n",
    "m.maximize(sum(3*y_1+2*y_2+y_3)/3)\n",
    "#solution\n",
    "sol=m.solve()\n",
    "sol.display()"
   ]
  },
  {
   "cell_type": "markdown",
   "metadata": {},
   "source": [
    "### expected value problem"
   ]
  },
  {
   "cell_type": "code",
   "execution_count": 3,
   "metadata": {},
   "outputs": [
    {
     "name": "stdout",
     "output_type": "stream",
     "text": [
      "solution for: Northam Airlines - expected value problem\n",
      "objective: 225\n",
      "number of first class seats = 11\n",
      "number of business class seats = 28\n",
      "number of economy class seats = 136\n",
      "number of first class seats sold = 11\n",
      "number of business class seats sold = 28\n",
      "number of economy class seats sold = 136\n"
     ]
    }
   ],
   "source": [
    "m2 = Model(name='Northam Airlines - expected value problem')\n",
    "x=m2.integer_var_list(keys=[1,2,3],name=['number of first class seats','number of business class seats','number of economy class seats'],\n",
    "key_format='%s')\n",
    "y=m2.integer_var_list(keys=[1,2,3],name=['number of first class seats sold','number of business class seats sold','number of economy class seats sold'],\n",
    "key_format='%s')\n",
    "m2.add_constraint_(2*x[0]+1.5*x[1]+x[2]<=200)\n",
    "m2.add_constraint_(y[0]<=35/3)\n",
    "m2.add_constraint_(y[1]<=85/3)\n",
    "m2.add_constraint_(y[2]<=525/3)\n",
    "m2.add_constraints_(y[i]<=x[i] for i in range(3))\n",
    "m2.add_constraints_(x[i]>=0 for i in range(3))\n",
    "m2.add_constraints_(y[i]>=0 for i in range(3))\n",
    "m2.maximize(3*y[0]+2*y[1]+y[2])\n",
    "sol=m2.solve()\n",
    "sol.display()"
   ]
  },
  {
   "cell_type": "markdown",
   "metadata": {},
   "source": [
    "### سوال 6 صفحه 52"
   ]
  },
  {
   "cell_type": "code",
   "execution_count": 4,
   "metadata": {},
   "outputs": [
    {
     "name": "stdout",
     "output_type": "stream",
     "text": [
      "solution for: emergency room - stochastic\n",
      "objective: 9122.222\n",
      "x1 = 4\n",
      "x2 = 5\n",
      "x3 = 5\n",
      "e11 = 10\n",
      "e12 = 10\n",
      "e13 = 10\n",
      "e22 = 20\n",
      "e23 = 20\n",
      "e24 = 10\n",
      "e32 = 20\n",
      "e33 = 10\n",
      "e34 = 10\n",
      "e35 = 10\n"
     ]
    }
   ],
   "source": [
    "e_keys=[]\n",
    "for j in range(1,4):\n",
    "    for s in range(1,10):\n",
    "        e_keys.append((int(str(j)+str(s))))\n",
    "n=Model(name='emergency room - stochastic')\n",
    "# Variables\n",
    "#number of nurses designated for shift i\n",
    "x=n.integer_var_list(keys=[1,2,3],name=['x1','x2','x3'],\n",
    "key_format='%s')\n",
    "#nurses added to sunday-monday duty\n",
    "a=n.integer_var_list(keys=[1,2,3,4,5,6,7,8,9],name=['a1','a2','a3','a4','a5','a6','a7','a8','a9'],key_format='%s')\n",
    "#excess demand for the jth day based on scenario s\n",
    "e=n.integer_var_list(keys=e_keys,name='e',key_format='%s')\n",
    "def v(name):\n",
    "    return n.get_var_by_name(name=name)\n",
    "#saturday constraints\n",
    "n.add_constraints_(10*(x[0]+x[2])+e[i]>=100  for i in range(3))\n",
    "n.add_constraints_(10*(x[0]+x[2])+e[i]>=90  for i in range(3,6))\n",
    "n.add_constraints_(10*(x[0]+x[2])+e[i]>=80  for i in range(6,9))\n",
    "#sunday constraints\n",
    "n.add_constraint_(10*(x[0]+x[1]+a[0])+v('e21')>=90)\n",
    "n.add_constraint_(10*(x[0]+x[1]+a[1])+v('e22')>=110)\n",
    "n.add_constraint_(10*(x[0]+x[1]+a[2])+v('e23')>=110)\n",
    "n.add_constraint_(10*(x[0]+x[1]+a[3])+v('e24')>=100)\n",
    "n.add_constraint_(10*(x[0]+x[1]+a[4])+v('e25')>=80)\n",
    "n.add_constraint_(10*(x[0]+x[1]+a[5])+v('e26')>=90)\n",
    "n.add_constraint_(10*(x[0]+x[1]+a[6])+v('e27')>=90)\n",
    "n.add_constraint_(10*(x[0]+x[1]+a[7])+v('e28')>=70)\n",
    "n.add_constraint_(10*(x[0]+x[1]+a[8])+v('e29')>=80)\n",
    "#monday constraints\n",
    "n.add_constraint_(10*(x[1]+x[2]+a[0])+v('e31')>=20)\n",
    "n.add_constraint_(10*(x[1]+x[2]+a[1])+v('e32')>=120)\n",
    "n.add_constraint_(10*(x[1]+x[2]+a[2])+v('e33')>=110)\n",
    "n.add_constraint_(10*(x[1]+x[2]+a[3])+v('e34')>=110)\n",
    "n.add_constraint_(10*(x[1]+x[2]+a[4])+v('e35')>=110)\n",
    "n.add_constraint_(10*(x[1]+x[2]+a[5])+v('e36')>=100)\n",
    "n.add_constraint_(10*(x[1]+x[2]+a[6])+v('e37')>=100)\n",
    "n.add_constraint_(10*(x[1]+x[2]+a[7])+v('e38')>=100)\n",
    "n.add_constraint_(10*(x[1]+x[2]+a[8])+v('e39')>=90)\n",
    "#sign constraints\n",
    "n.add_constraints_(x[i]>=0 for i in range(3))\n",
    "n.add_constraints_(a[i]>=0 for i in range(9))\n",
    "n.add_constraints_(e[i]>=0 for i in range(27))\n",
    "n.minimize(600*sum(x)+sum((1/9)*(50)*e[i] for i in range(27))+sum(800*a[j] for j in range(9)))\n",
    "sol=n.solve()\n",
    "sol.display()"
   ]
  },
  {
   "cell_type": "markdown",
   "metadata": {},
   "source": [
    "### expected value problem"
   ]
  },
  {
   "cell_type": "code",
   "execution_count": 6,
   "metadata": {},
   "outputs": [
    {
     "name": "stdout",
     "output_type": "stream",
     "text": [
      "solution for: emergency room - expected value problem\n",
      "objective: 8400\n",
      "x1 = 4\n",
      "x2 = 5\n",
      "x3 = 5\n"
     ]
    }
   ],
   "source": [
    "n2=Model(name='emergency room - expected value problem')\n",
    "# Variables\n",
    "#number of nurses designated for shift i\n",
    "x=n2.integer_var_list(keys=[1,2,3],name=['x1','x2','x3'],\n",
    "key_format='%s')\n",
    "#excess demand for the jth day\n",
    "e=n2.integer_var_list(keys=[1,2,3],name='e',key_format='%s')\n",
    "#constraints\n",
    "n2.add_constraint_(10*(x[0]+x[2])+e[0]>=90)\n",
    "n2.add_constraint_(10*(x[0]+x[1])+e[1]>=90)\n",
    "n2.add_constraint_(10*(x[1]+x[2])+e[2]>=95.6)\n",
    "n2.add_constraints_([x[i]>=0 for i in range(3)])\n",
    "n2.add_constraints_([e[j]>=0 for j in range(3)])\n",
    "n2.minimize(600*sum(x)+50*sum(e))\n",
    "solution=n2.solve()\n",
    "solution.display()"
   ]
  },
  {
   "cell_type": "code",
   "execution_count": null,
   "metadata": {},
   "outputs": [],
   "source": []
  },
  {
   "cell_type": "code",
   "execution_count": null,
   "metadata": {},
   "outputs": [],
   "source": []
  },
  {
   "cell_type": "code",
   "execution_count": null,
   "metadata": {},
   "outputs": [],
   "source": []
  }
 ],
 "metadata": {
  "interpreter": {
   "hash": "cc5f70855ac006f3de45a3cc3b9e7d8d53845e50458809cb162b0174266dec97"
  },
  "kernelspec": {
   "display_name": "Python 3.8.12 64-bit ('base': conda)",
   "language": "python",
   "name": "python3"
  },
  "language_info": {
   "codemirror_mode": {
    "name": "ipython",
    "version": 3
   },
   "file_extension": ".py",
   "mimetype": "text/x-python",
   "name": "python",
   "nbconvert_exporter": "python",
   "pygments_lexer": "ipython3",
   "version": "3.8.12"
  },
  "orig_nbformat": 4
 },
 "nbformat": 4,
 "nbformat_minor": 2
}
