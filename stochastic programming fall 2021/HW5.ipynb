{
 "cells": [
  {
   "cell_type": "code",
   "execution_count": 2,
   "metadata": {},
   "outputs": [
    {
     "name": "stdout",
     "output_type": "stream",
     "text": [
      "solution for: first step\n",
      "objective: 210.000\n",
      "x1 = 6.769\n",
      "x2 = 10.000\n",
      "teta = 52.615\n"
     ]
    }
   ],
   "source": [
    "from docplex.mp.model import Model\n",
    "n = Model(name='first step-L shaped algorithm')\n",
    "# Variables\n",
    "x1=n.continuous_var()\n",
    "x2=n.continuous_var()\n",
    "teta=n.continuous_var(name='teta')\n",
    "n.add_constraint_(7*x1+13*x2+teta>=230)\n",
    "n.add_constraint_(20*x1+teta>=188)\n",
    "n.add_constraint_(6*x1+13*x2+teta>=216)\n",
    "n.add_constraints_([x1>=0 , x2>=0])\n",
    "n.add_constraints_([x1<=10 , x2<=10])\n",
    "n.minimize(7*x1+11*x2+teta)\n",
    "sol=n.solve()\n",
    "sol.display()"
   ]
  },
  {
   "cell_type": "code",
   "execution_count": 20,
   "metadata": {},
   "outputs": [
    {
     "name": "stdout",
     "output_type": "stream",
     "text": [
      "solution for: second step\n",
      "objective: 0.000\n",
      "x1 = 15.000\n",
      "x2 = 2.000\n"
     ]
    }
   ],
   "source": [
    "from docplex.mp.model import Model\n",
    "w = Model(name='second step-L shaped algorithm')\n",
    "# Variables\n",
    "y1=w.continuous_var()\n",
    "y2=w.continuous_var()\n",
    "vp=w.continuous_var_list(keys=[1,2,3,4],name='vp',key_format='%s')\n",
    "vm=w.continuous_var_list(keys=[1,2,3,4],name='vm',key_format='%s')\n",
    "w.add_constraint_(vp[0]-vm[0]+y1+2*y2>=10-6.77)\n",
    "w.add_constraint_(vp[1]-vm[1]+y1>=-6)\n",
    "w.add_constraint_(vp[2]-vm[2]+y1<=15)\n",
    "w.add_constraint_(vp[3]-vm[3]+y2<=2)\n",
    "w.add_constraints_([y1>=0 , y2>=0])\n",
    "w.add_constraints_(vp[i]>=0 for i in range(4))\n",
    "w.add_constraints_(vm[i]>=0 for i in range(4))\n",
    "w.minimize(vp[0]+vp[1]+vp[2]+vp[3]+vm[0]+vm[1]+vm[2]+vm[3])\n",
    "sol=w.solve()\n",
    "sol.display()"
   ]
  },
  {
   "cell_type": "code",
   "execution_count": 4,
   "metadata": {},
   "outputs": [
    {
     "name": "stdout",
     "output_type": "stream",
     "text": [
      "solution for: third step\n",
      "objective: 38.760\n",
      "y2 = 1.615\n"
     ]
    }
   ],
   "source": [
    "m = Model(name='third step-L shaped algorithm')\n",
    "# Variables\n",
    "y1=m.continuous_var(name='y1')\n",
    "y2=m.continuous_var(name='y2')\n",
    "m.add_constraint_(y1+2*y2>=10-6.77,'a')\n",
    "m.add_constraint_(y1>=4-10,'b')\n",
    "m.add_constraint_(-y1>=-15,'c')\n",
    "m.add_constraint_(-y2>=-2,'d')\n",
    "m.add_constraints_([y1>=0 , y2>=0])\n",
    "m.minimize(14*y1+24*y2)\n",
    "sol=m.solve()\n",
    "sol.display()"
   ]
  },
  {
   "cell_type": "code",
   "execution_count": 5,
   "metadata": {},
   "outputs": [
    {
     "data": {
      "text/plain": [
       "[[12.0], [0], [0], [0]]"
      ]
     },
     "execution_count": 5,
     "metadata": {},
     "output_type": "execute_result"
    }
   ],
   "source": [
    "simplex=[]\n",
    "simplex.append(m.dual_values(m.find_matching_linear_constraints('a')))\n",
    "simplex.append(m.dual_values(m.find_matching_linear_constraints('b')))\n",
    "simplex.append(m.dual_values(m.find_matching_linear_constraints('c')))\n",
    "simplex.append(m.dual_values(m.find_matching_linear_constraints('d')))\n",
    "simplex"
   ]
  },
  {
   "cell_type": "code",
   "execution_count": 6,
   "metadata": {},
   "outputs": [
    {
     "data": {
      "text/plain": [
       "array([[216.]])"
      ]
     },
     "execution_count": 6,
     "metadata": {},
     "output_type": "execute_result"
    }
   ],
   "source": [
    "import numpy as  np\n",
    "a=np.array([[0,26,0,0]])\n",
    "#b=np.array([[1,0],[0,1],[0,0],[0,0]])\n",
    "b=np.array([[6,12,15,2]]).T\n",
    "c=np.array([[12,0,0,0]])\n",
    "d=np.array([[10 ,4 ,15 ,2 ]]).T\n",
    "(np.matmul(a,b)+np.matmul(c,d))*0.5"
   ]
  },
  {
   "cell_type": "code",
   "execution_count": 54,
   "metadata": {},
   "outputs": [
    {
     "name": "stdout",
     "output_type": "stream",
     "text": [
      "solution for: تجزیه منظم - دوراول - گام دوم - سناریوی اول\n",
      "objective: 0.000\n",
      "y11 = 8.500\n",
      "y21 = 2.000\n",
      "y31 = 7.000\n"
     ]
    }
   ],
   "source": [
    "from docplex.mp.model import Model\n",
    "r = Model(name='تجزیه منظم - دوراول - گام دوم - سناریوی اول')\n",
    "# Variables\n",
    "y1=r.continuous_var_list(keys=[1,2],name='y1',key_format='%s')\n",
    "y2=r.continuous_var_list(keys=[1,2],name='y2',key_format='%s')\n",
    "y3=r.continuous_var_list(keys=[1,2],name='y3',key_format='%s')\n",
    "y4=r.continuous_var_list(keys=[1,2],name='y4',key_format='%s')\n",
    "y5=r.continuous_var_list(keys=[1,2],name='y5',key_format='%s')\n",
    "y6=r.continuous_var_list(keys=[1,2],name='y6',key_format='%s')\n",
    "vp=r.continuous_var_list(keys=[1,2,3],name='vp',key_format='%s')\n",
    "vm=r.continuous_var_list(keys=[1,2,3],name='vm',key_format='%s')\n",
    "#scenario1\n",
    "r.add_constraint_(vp[0]-vm[0]+y1[0]-y2[0]-y3[0]-y4[0]==-0.5)\n",
    "r.add_constraint_(vp[1]-vm[1]+y2[0]+y5[0]==2)\n",
    "r.add_constraint_(vp[2]-vm[2]+y3[0]+y6[0]==7)\n",
    "r.minimize(vp[0]+vp[1]+vp[2]+vm[0]+vm[1]+vm[2])\n",
    "sol=r.solve()\n",
    "sol.display()\n"
   ]
  },
  {
   "cell_type": "code",
   "execution_count": 55,
   "metadata": {
    "scrolled": true
   },
   "outputs": [
    {
     "name": "stdout",
     "output_type": "stream",
     "text": [
      "solution for: تجزیه منظم - دوراول - گام دوم - سناریوی دوم\n",
      "objective: 0.000\n",
      "y12 = 9.500\n",
      "y22 = 2.000\n",
      "y32 = 7.000\n"
     ]
    }
   ],
   "source": [
    "from docplex.mp.model import Model\n",
    "r = Model(name='تجزیه منظم - دوراول - گام دوم - سناریوی دوم')\n",
    "# Variables\n",
    "y1=r.continuous_var_list(keys=[1,2],name='y1',key_format='%s')\n",
    "y2=r.continuous_var_list(keys=[1,2],name='y2',key_format='%s')\n",
    "y3=r.continuous_var_list(keys=[1,2],name='y3',key_format='%s')\n",
    "y4=r.continuous_var_list(keys=[1,2],name='y4',key_format='%s')\n",
    "y5=r.continuous_var_list(keys=[1,2],name='y5',key_format='%s')\n",
    "y6=r.continuous_var_list(keys=[1,2],name='y6',key_format='%s')\n",
    "vp=r.continuous_var_list(keys=[1,2,3],name='vp',key_format='%s')\n",
    "vm=r.continuous_var_list(keys=[1,2,3],name='vm',key_format='%s')\n",
    "#scenario2\n",
    "r.add_constraint_(vp[0]-vm[0]+y1[1]-y2[1]-y3[1]-y4[1]==0.5)\n",
    "r.add_constraint_(vp[1]-vm[1]+y2[1]+y5[1]==2)\n",
    "r.add_constraint_(vp[2]-vm[2]+y3[1]+y6[1]==7)\n",
    "r.minimize(vp[0]+vp[1]+vp[2]+vm[0]+vm[1]+vm[2])\n",
    "sol=r.solve()\n",
    "sol.display()"
   ]
  },
  {
   "cell_type": "code",
   "execution_count": 80,
   "metadata": {},
   "outputs": [
    {
     "name": "stdout",
     "output_type": "stream",
     "text": [
      "solution for: تجزیه منظم - دوراول - گام سوم - سناریوی اول\n",
      "objective: 0.000\n",
      "y41 = 0.500\n",
      "y51 = 2.000\n",
      "y61 = 7.000\n"
     ]
    }
   ],
   "source": [
    "from docplex.mp.model import Model\n",
    "r = Model(name='تجزیه منظم - دوراول - گام سوم - سناریوی اول')\n",
    "# Variables\n",
    "y1=r.continuous_var_list(keys=[1,2],name='y1',key_format='%s')\n",
    "y2=r.continuous_var_list(keys=[1,2],name='y2',key_format='%s')\n",
    "y3=r.continuous_var_list(keys=[1,2],name='y3',key_format='%s')\n",
    "y4=r.continuous_var_list(keys=[1,2],name='y4',key_format='%s')\n",
    "y5=r.continuous_var_list(keys=[1,2],name='y5',key_format='%s')\n",
    "y6=r.continuous_var_list(keys=[1,2],name='y6',key_format='%s')\n",
    "#scenario1\n",
    "r.add_constraint_(y1[0]-y2[0]-y3[0]-y4[0]==-0.5,'a')\n",
    "r.add_constraint_(y2[0]+y5[0]==2,'b')\n",
    "r.add_constraint_(y3[0]+y6[0]==7,'c')\n",
    "r.minimize(y1[0])\n",
    "sol=r.solve()\n",
    "sol.display()"
   ]
  },
  {
   "cell_type": "code",
   "execution_count": 81,
   "metadata": {},
   "outputs": [
    {
     "name": "stdout",
     "output_type": "stream",
     "text": [
      "simplex multipliers for optimal solution is:  [[0], [0], [0]]\n"
     ]
    }
   ],
   "source": [
    "simplex=[]\n",
    "simplex.append(r.dual_values(r.find_matching_linear_constraints('a')))\n",
    "simplex.append(r.dual_values(r.find_matching_linear_constraints('b')))\n",
    "simplex.append(r.dual_values(r.find_matching_linear_constraints('c')))\n",
    "print('simplex multipliers for optimal solution is: ',simplex)"
   ]
  },
  {
   "cell_type": "code",
   "execution_count": 82,
   "metadata": {},
   "outputs": [
    {
     "name": "stdout",
     "output_type": "stream",
     "text": [
      "solution for: تجزیه منظم - دوراول - گام سوم - سناریوی دوم\n",
      "objective: 0.750\n",
      "y12 = 0.500\n",
      "y52 = 2.000\n",
      "y62 = 7.000\n"
     ]
    }
   ],
   "source": [
    "from docplex.mp.model import Model\n",
    "r = Model(name='تجزیه منظم - دوراول - گام سوم - سناریوی دوم')\n",
    "# Variables\n",
    "y1=r.continuous_var_list(keys=[1,2],name='y1',key_format='%s')\n",
    "y2=r.continuous_var_list(keys=[1,2],name='y2',key_format='%s')\n",
    "y3=r.continuous_var_list(keys=[1,2],name='y3',key_format='%s')\n",
    "y4=r.continuous_var_list(keys=[1,2],name='y4',key_format='%s')\n",
    "y5=r.continuous_var_list(keys=[1,2],name='y5',key_format='%s')\n",
    "y6=r.continuous_var_list(keys=[1,2],name='y6',key_format='%s')\n",
    "#scenario2\n",
    "r.add_constraint_(y1[1]-y2[1]-y3[1]-y4[1]==0.5,'a')\n",
    "r.add_constraint_(y2[1]+y5[1]==2,'b')\n",
    "r.add_constraint_(y3[1]+y6[1]==7,'c')\n",
    "r.minimize(1.5*y1[1]+(2/7)*y3[1]+y4[1])\n",
    "sol=r.solve()\n",
    "sol.display()"
   ]
  },
  {
   "cell_type": "code",
   "execution_count": 83,
   "metadata": {},
   "outputs": [
    {
     "name": "stdout",
     "output_type": "stream",
     "text": [
      "simplex multipliers for optimal solution is:  [[1.5], [0], [0]]\n"
     ]
    }
   ],
   "source": [
    "simplex=[]\n",
    "simplex.append(r.dual_values(r.find_matching_linear_constraints('a')))\n",
    "simplex.append(r.dual_values(r.find_matching_linear_constraints('b')))\n",
    "simplex.append(r.dual_values(r.find_matching_linear_constraints('c')))\n",
    "print('simplex multipliers for optimal solution is: ',simplex)"
   ]
  }
 ],
 "metadata": {
  "interpreter": {
   "hash": "cc5f70855ac006f3de45a3cc3b9e7d8d53845e50458809cb162b0174266dec97"
  },
  "kernelspec": {
   "display_name": "Python 3 (ipykernel)",
   "language": "python",
   "name": "python3"
  },
  "language_info": {
   "codemirror_mode": {
    "name": "ipython",
    "version": 3
   },
   "file_extension": ".py",
   "mimetype": "text/x-python",
   "name": "python",
   "nbconvert_exporter": "python",
   "pygments_lexer": "ipython3",
   "version": "3.8.12"
  },
  "varInspector": {
   "cols": {
    "lenName": 16,
    "lenType": 16,
    "lenVar": 40
   },
   "kernels_config": {
    "python": {
     "delete_cmd_postfix": "",
     "delete_cmd_prefix": "del ",
     "library": "var_list.py",
     "varRefreshCmd": "print(var_dic_list())"
    },
    "r": {
     "delete_cmd_postfix": ") ",
     "delete_cmd_prefix": "rm(",
     "library": "var_list.r",
     "varRefreshCmd": "cat(var_dic_list()) "
    }
   },
   "types_to_exclude": [
    "module",
    "function",
    "builtin_function_or_method",
    "instance",
    "_Feature"
   ],
   "window_display": false
  }
 },
 "nbformat": 4,
 "nbformat_minor": 2
}
