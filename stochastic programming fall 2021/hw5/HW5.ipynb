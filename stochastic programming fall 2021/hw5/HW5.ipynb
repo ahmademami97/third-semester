{
 "cells": [
  {
   "cell_type": "code",
   "execution_count": 1,
   "metadata": {},
   "outputs": [
    {
     "name": "stdout",
     "output_type": "stream",
     "text": [
      "solution for: first step-L shaped algorithm\n",
      "objective: -27.422\n",
      "y = 27.422\n"
     ]
    }
   ],
   "source": [
    "from docplex.mp.model import Model\n",
    "n = Model(name='first step-L shaped algorithm')\n",
    "# Variables\n",
    "x1=n.continuous_var(lb=0)\n",
    "x2=n.continuous_var(lb=0)\n",
    "y=n.continuous_var(name='y')\n",
    "w1=n.continuous_var(name='w')\n",
    "n.add_constraint_(pow(1.25,3)*55-y+w1==80,'a')\n",
    "n.minimize(-y+4*w1)\n",
    "sol=n.solve()\n",
    "sol.display()"
   ]
  },
  {
   "cell_type": "code",
   "execution_count": 36,
   "metadata": {},
   "outputs": [],
   "source": [
    "import numpy as np\n"
   ]
  },
  {
   "cell_type": "code",
   "execution_count": 38,
   "metadata": {},
   "outputs": [
    {
     "data": {
      "text/plain": [
       "1.0"
      ]
     },
     "execution_count": 38,
     "metadata": {},
     "output_type": "execute_result"
    }
   ],
   "source": [
    "np.array(n.dual_values(n.find_matching_linear_constraints('a'))).item()\n"
   ]
  },
  {
   "cell_type": "code",
   "execution_count": 1,
   "metadata": {},
   "outputs": [
    {
     "name": "stdout",
     "output_type": "stream",
     "text": [
      "solution for: first step-L shaped algorithm\n",
      "objective: 202.000\n",
      "x1 = 4.000\n",
      "x2 = 10.000\n",
      "teta = 64.000\n"
     ]
    }
   ],
   "source": [
    "from docplex.mp.model import Model\n",
    "n = Model(name='first step-L shaped algorithm')\n",
    "# Variables\n",
    "x1=n.continuous_var(lb=0 , ub=10)\n",
    "x2=n.continuous_var(lb=0 , ub=10)\n",
    "teta=n.continuous_var(name='teta')\n",
    "n.add_constraint_(7*x1+13*x2+teta>=222)\n",
    "n.add_constraint_(20*x1+teta>=108)\n",
    "n.add_constraint_(11*x1+9*x2+teta>=198)\n",
    "n.add_constraint_(13*x2+teta>=156)\n",
    "n.minimize(7*x1+11*x2+teta)\n",
    "sol=n.solve()\n",
    "sol.display()"
   ]
  },
  {
   "cell_type": "code",
   "execution_count": 4,
   "metadata": {},
   "outputs": [
    {
     "name": "stdout",
     "output_type": "stream",
     "text": [
      "solution for: second step-L shaped algorithm\n",
      "objective: 0.000\n",
      "y1 = 15.000\n",
      "y2 = 2.000\n"
     ]
    }
   ],
   "source": [
    "from docplex.mp.model import Model\n",
    "w = Model(name='second step-L shaped algorithm')\n",
    "# Variables\n",
    "y1=w.continuous_var(name='y1')\n",
    "y2=w.continuous_var(name='y2')\n",
    "vp=w.continuous_var_list(keys=[1,2,3,4],name='vp',key_format='%s')\n",
    "vm=w.continuous_var_list(keys=[1,2,3,4],name='vm',key_format='%s')\n",
    "w.add_constraint_(vp[0]-vm[0]+y1+2*y2>=10-10)\n",
    "w.add_constraint_(vp[1]-vm[1]+y1>=4-10)\n",
    "w.add_constraint_(vp[2]-vm[2]+y1<=15)\n",
    "w.add_constraint_(vp[3]-vm[3]+y2<=2)\n",
    "w.add_constraints_([y1>=0 , y2>=0])\n",
    "w.add_constraints_(vp[i]>=0 for i in range(4))\n",
    "w.add_constraints_(vm[i]>=0 for i in range(4))\n",
    "w.minimize(vp[0]+vp[1]+vp[2]+vp[3]+vm[0]+vm[1]+vm[2]+vm[3])\n",
    "sol=w.solve()\n"
   ]
  },
  {
   "cell_type": "code",
   "execution_count": 57,
   "metadata": {},
   "outputs": [
    {
     "name": "stdout",
     "output_type": "stream",
     "text": [
      "solution for: third step-L shaped algorithm\n",
      "objective: 0.000\n"
     ]
    }
   ],
   "source": [
    "m = Model(name='third step-L shaped algorithm')\n",
    "# Variables\n",
    "y1=m.continuous_var(name='y1')\n",
    "y2=m.continuous_var(name='y2')\n",
    "m.add_constraint_(y1+2*y2>=10-10,'a')\n",
    "m.add_constraint_(y1>=4-10,'b')\n",
    "m.add_constraint_(-y1>=-15,'c')\n",
    "m.add_constraint_(-y2>=-2,'d')\n",
    "m.add_constraints_([y1>=0 , y2>=0])\n",
    "m.minimize(26*y1+16*y2)\n",
    "sol=m.solve()\n",
    "sol.display()"
   ]
  },
  {
   "cell_type": "code",
   "execution_count": 55,
   "metadata": {},
   "outputs": [
    {
     "data": {
      "text/plain": [
       "[[0], [0], [0], [0]]"
      ]
     },
     "execution_count": 55,
     "metadata": {},
     "output_type": "execute_result"
    }
   ],
   "source": [
    "[[0], [0], [0], [0]]"
   ]
  },
  {
   "cell_type": "code",
   "execution_count": 51,
   "metadata": {},
   "outputs": [
    {
     "data": {
      "text/plain": [
       "[0, 0, 0, 0]"
      ]
     },
     "execution_count": 51,
     "metadata": {},
     "output_type": "execute_result"
    }
   ],
   "source": [
    "np.array([[0], [0], [0], [0]]).reshape(4,).tolist()"
   ]
  },
  {
   "cell_type": "code",
   "execution_count": 58,
   "metadata": {},
   "outputs": [
    {
     "data": {
      "text/plain": [
       "[0, [0], [0], [0]]"
      ]
     },
     "execution_count": 58,
     "metadata": {},
     "output_type": "execute_result"
    }
   ],
   "source": [
    "simplex=[]\n",
    "simplex.append(np.array(m.dual_values(m.find_matching_linear_constraints('a'))).item())\n",
    "simplex.append(m.dual_values(m.find_matching_linear_constraints('b')))\n",
    "simplex.append(m.dual_values(m.find_matching_linear_constraints('c')))\n",
    "simplex.append(m.dual_values(m.find_matching_linear_constraints('d')))\n",
    "simplex"
   ]
  },
  {
   "cell_type": "code",
   "execution_count": 7,
   "metadata": {},
   "outputs": [
    {
     "data": {
      "text/plain": [
       "array([[108.]])"
      ]
     },
     "execution_count": 7,
     "metadata": {},
     "output_type": "execute_result"
    }
   ],
   "source": [
    "import numpy as  np\n",
    "a=np.array([[26,0,0,36]])\n",
    "#b=np.array([[1,0],[0,1],[0,0],[0,0]])\n",
    "b=np.array([[6,12,-15,-2]]).T\n",
    "c=np.array([[14,0,0,4]])\n",
    "d=np.array([[10 ,4 ,-15 ,-2 ]]).T\n",
    "(np.matmul(a,b)+np.matmul(c,d))*0.5"
   ]
  },
  {
   "cell_type": "code",
   "execution_count": 8,
   "metadata": {},
   "outputs": [
    {
     "name": "stdout",
     "output_type": "stream",
     "text": [
      "solution for: تجزیه منظم - دور دوم - گام دوم - سناریوی اول\n",
      "objective: 0.000\n",
      "y11 = 7.750\n",
      "y21 = 2.000\n",
      "y31 = 7.000\n"
     ]
    }
   ],
   "source": [
    "from docplex.mp.model import Model\n",
    "r = Model(name='تجزیه منظم - دور دوم - گام دوم - سناریوی اول')\n",
    "# Variables\n",
    "y1=r.continuous_var_list(keys=[1,2],name='y1',key_format='%s')\n",
    "y2=r.continuous_var_list(keys=[1,2],name='y2',key_format='%s')\n",
    "y3=r.continuous_var_list(keys=[1,2],name='y3',key_format='%s')\n",
    "y4=r.continuous_var_list(keys=[1,2],name='y4',key_format='%s')\n",
    "y5=r.continuous_var_list(keys=[1,2],name='y5',key_format='%s')\n",
    "y6=r.continuous_var_list(keys=[1,2],name='y6',key_format='%s')\n",
    "vp=r.continuous_var_list(keys=[1,2,3],name='vp',key_format='%s')\n",
    "vm=r.continuous_var_list(keys=[1,2,3],name='vm',key_format='%s')\n",
    "#scenario1\n",
    "r.add_constraint_(vp[0]-vm[0]+y1[0]-y2[0]-y3[0]-y4[0]==-1.25)\n",
    "r.add_constraint_(vp[1]-vm[1]+y2[0]+y5[0]==2)\n",
    "r.add_constraint_(vp[2]-vm[2]+y3[0]+y6[0]==7)\n",
    "r.minimize(vp[0]+vp[1]+vp[2]+vm[0]+vm[1]+vm[2])\n",
    "sol=r.solve()\n",
    "sol.display()\n"
   ]
  },
  {
   "cell_type": "code",
   "execution_count": 9,
   "metadata": {
    "scrolled": true
   },
   "outputs": [
    {
     "name": "stdout",
     "output_type": "stream",
     "text": [
      "solution for: تجزیه منظم - دور دوم - گام دوم - سناریوی دوم\n",
      "objective: 0.000\n",
      "y12 = 8.750\n",
      "y22 = 2.000\n",
      "y32 = 7.000\n"
     ]
    }
   ],
   "source": [
    "from docplex.mp.model import Model\n",
    "r = Model(name='تجزیه منظم - دور دوم - گام دوم - سناریوی دوم')\n",
    "# Variables\n",
    "y1=r.continuous_var_list(keys=[1,2],name='y1',key_format='%s')\n",
    "y2=r.continuous_var_list(keys=[1,2],name='y2',key_format='%s')\n",
    "y3=r.continuous_var_list(keys=[1,2],name='y3',key_format='%s')\n",
    "y4=r.continuous_var_list(keys=[1,2],name='y4',key_format='%s')\n",
    "y5=r.continuous_var_list(keys=[1,2],name='y5',key_format='%s')\n",
    "y6=r.continuous_var_list(keys=[1,2],name='y6',key_format='%s')\n",
    "vp=r.continuous_var_list(keys=[1,2,3],name='vp',key_format='%s')\n",
    "vm=r.continuous_var_list(keys=[1,2,3],name='vm',key_format='%s')\n",
    "#scenario2\n",
    "r.add_constraint_(vp[0]-vm[0]+y1[1]-y2[1]-y3[1]-y4[1]==-0.25)\n",
    "r.add_constraint_(vp[1]-vm[1]+y2[1]+y5[1]==2)\n",
    "r.add_constraint_(vp[2]-vm[2]+y3[1]+y6[1]==7)\n",
    "r.minimize(vp[0]+vp[1]+vp[2]+vm[0]+vm[1]+vm[2])\n",
    "sol=r.solve()\n",
    "sol.display()"
   ]
  },
  {
   "cell_type": "code",
   "execution_count": 10,
   "metadata": {},
   "outputs": [
    {
     "name": "stdout",
     "output_type": "stream",
     "text": [
      "solution for: تجزیه منظم - دور دوم - گام سوم - سناریوی اول\n",
      "objective: 0.000\n",
      "y41 = 1.250\n",
      "y51 = 2.000\n",
      "y61 = 7.000\n"
     ]
    }
   ],
   "source": [
    "from docplex.mp.model import Model\n",
    "r = Model(name='تجزیه منظم - دور دوم - گام سوم - سناریوی اول')\n",
    "# Variables\n",
    "y1=r.continuous_var_list(keys=[1,2],name='y1',key_format='%s')\n",
    "y2=r.continuous_var_list(keys=[1,2],name='y2',key_format='%s')\n",
    "y3=r.continuous_var_list(keys=[1,2],name='y3',key_format='%s')\n",
    "y4=r.continuous_var_list(keys=[1,2],name='y4',key_format='%s')\n",
    "y5=r.continuous_var_list(keys=[1,2],name='y5',key_format='%s')\n",
    "y6=r.continuous_var_list(keys=[1,2],name='y6',key_format='%s')\n",
    "#scenario1\n",
    "r.add_constraint_(y1[0]-y2[0]-y3[0]-y4[0]==-1.25,'a')\n",
    "r.add_constraint_(y2[0]+y5[0]==2,'b')\n",
    "r.add_constraint_(y3[0]+y6[0]==7,'c')\n",
    "r.minimize(y1[0])\n",
    "sol=r.solve()\n",
    "sol.display()"
   ]
  },
  {
   "cell_type": "code",
   "execution_count": 11,
   "metadata": {},
   "outputs": [
    {
     "name": "stdout",
     "output_type": "stream",
     "text": [
      "simplex multipliers for optimal solution is:  [[0], [0], [0]]\n"
     ]
    }
   ],
   "source": [
    "simplex=[]\n",
    "simplex.append(r.dual_values(r.find_matching_linear_constraints('a')))\n",
    "simplex.append(r.dual_values(r.find_matching_linear_constraints('b')))\n",
    "simplex.append(r.dual_values(r.find_matching_linear_constraints('c')))\n",
    "print('simplex multipliers for optimal solution is: ',simplex)"
   ]
  },
  {
   "cell_type": "code",
   "execution_count": 12,
   "metadata": {},
   "outputs": [
    {
     "name": "stdout",
     "output_type": "stream",
     "text": [
      "solution for: تجزیه منظم - دور دوم - گام سوم - سناریوی دوم\n",
      "objective: 0.000\n",
      "y22 = 0.250\n",
      "y52 = 1.750\n",
      "y62 = 7.000\n"
     ]
    }
   ],
   "source": [
    "from docplex.mp.model import Model\n",
    "r = Model(name='تجزیه منظم - دور دوم - گام سوم - سناریوی دوم')\n",
    "# Variables\n",
    "y1=r.continuous_var_list(keys=[1,2],name='y1',key_format='%s')\n",
    "y2=r.continuous_var_list(keys=[1,2],name='y2',key_format='%s')\n",
    "y3=r.continuous_var_list(keys=[1,2],name='y3',key_format='%s')\n",
    "y4=r.continuous_var_list(keys=[1,2],name='y4',key_format='%s')\n",
    "y5=r.continuous_var_list(keys=[1,2],name='y5',key_format='%s')\n",
    "y6=r.continuous_var_list(keys=[1,2],name='y6',key_format='%s')\n",
    "#scenario2\n",
    "r.add_constraint_(y1[1]-y2[1]-y3[1]-y4[1]==-0.25,'a')\n",
    "r.add_constraint_(y2[1]+y5[1]==2,'b')\n",
    "r.add_constraint_(y3[1]+y6[1]==7,'c')\n",
    "r.minimize(1.5*y1[1]+(2/7)*y3[1]+y4[1])\n",
    "sol=r.solve()\n",
    "sol.display()"
   ]
  },
  {
   "cell_type": "code",
   "execution_count": 13,
   "metadata": {},
   "outputs": [
    {
     "name": "stdout",
     "output_type": "stream",
     "text": [
      "simplex multipliers for optimal solution is:  [[0], [0], [0]]\n"
     ]
    }
   ],
   "source": [
    "simplex=[]\n",
    "simplex.append(r.dual_values(r.find_matching_linear_constraints('a')))\n",
    "simplex.append(r.dual_values(r.find_matching_linear_constraints('b')))\n",
    "simplex.append(r.dual_values(r.find_matching_linear_constraints('c')))\n",
    "print('simplex multipliers for optimal solution is: ',simplex)"
   ]
  },
  {
   "cell_type": "code",
   "execution_count": 14,
   "metadata": {},
   "outputs": [
    {
     "name": "stdout",
     "output_type": "stream",
     "text": [
      "solution for: تجزیه منظم-دور سوم-گام اول\n",
      "objective: 0.0000\n",
      "x1 = 0.2500\n",
      "teta2 = 0.0000\n"
     ]
    }
   ],
   "source": [
    "from docplex.mp.model import Model\n",
    "from math import  inf\n",
    "n = Model(name='تجزیه منظم-دور سوم-گام اول')\n",
    "# Variables\n",
    "x=n.continuous_var(lb=-20,ub=20)\n",
    "teta1=n.continuous_var(name='teta1',lb=0)\n",
    "teta2=n.continuous_var(name='teta2',lb=0)\n",
    "n.add_constraint_(teta2>=-0.75*x)\n",
    "n.minimize(teta1+teta2+0.5*pow(x-0.25,2))\n",
    "n.float_precision=4\n",
    "sol=n.solve()\n",
    "sol.display()"
   ]
  },
  {
   "cell_type": "code",
   "execution_count": null,
   "metadata": {},
   "outputs": [],
   "source": []
  },
  {
   "cell_type": "code",
   "execution_count": null,
   "metadata": {},
   "outputs": [],
   "source": []
  }
 ],
 "metadata": {
  "interpreter": {
   "hash": "cc5f70855ac006f3de45a3cc3b9e7d8d53845e50458809cb162b0174266dec97"
  },
  "kernelspec": {
   "display_name": "Python 3 (ipykernel)",
   "language": "python",
   "name": "python3"
  },
  "language_info": {
   "codemirror_mode": {
    "name": "ipython",
    "version": 3
   },
   "file_extension": ".py",
   "mimetype": "text/x-python",
   "name": "python",
   "nbconvert_exporter": "python",
   "pygments_lexer": "ipython3",
   "version": "3.8.12"
  },
  "varInspector": {
   "cols": {
    "lenName": 16,
    "lenType": 16,
    "lenVar": 40
   },
   "kernels_config": {
    "python": {
     "delete_cmd_postfix": "",
     "delete_cmd_prefix": "del ",
     "library": "var_list.py",
     "varRefreshCmd": "print(var_dic_list())"
    },
    "r": {
     "delete_cmd_postfix": ") ",
     "delete_cmd_prefix": "rm(",
     "library": "var_list.r",
     "varRefreshCmd": "cat(var_dic_list()) "
    }
   },
   "types_to_exclude": [
    "module",
    "function",
    "builtin_function_or_method",
    "instance",
    "_Feature"
   ],
   "window_display": false
  }
 },
 "nbformat": 4,
 "nbformat_minor": 2
}
