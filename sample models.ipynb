{
  "cells": [
    {
      "cell_type": "markdown",
      "metadata": {
        "id": "ywCnmMqfau1j"
      },
      "source": [
        "### sample optimization problem"
      ]
    },
    {
      "cell_type": "code",
      "execution_count": 1,
      "metadata": {
        "id": "1lUdHJzjSQz0"
      },
      "outputs": [],
      "source": [
        "import scipy\n",
        "import numpy as np\n",
        "from scipy.optimize import minimize"
      ]
    },
    {
      "cell_type": "code",
      "execution_count": 2,
      "metadata": {
        "id": "OgkUmCYRSYP1"
      },
      "outputs": [],
      "source": [
        "#objective function\n",
        "def objective(x):\n",
        "  x1=x[0]\n",
        "  x2=x[1]\n",
        "  x3=x[2]\n",
        "  x4=x[3]\n",
        "  value=x1*x4*(x1+x2+x3)+x3\n",
        "  return value\n",
        "#constraint1\n",
        "def constraint1(x):\n",
        "  return x[0]*x[1]*x[2]*x[3]-25.0\n",
        "#constraint2\n",
        "def constraint2(x):\n",
        "  s=40\n",
        "  for i in range(4):\n",
        "    s=s-x[i]**2\n",
        "  return s"
      ]
    },
    {
      "cell_type": "code",
      "execution_count": 3,
      "metadata": {
        "colab": {
          "base_uri": "https://localhost:8080/"
        },
        "id": "h4ypCauKSYNW",
        "outputId": "8e01bd84-4b06-464e-cf79-657282d12370"
      },
      "outputs": [
        {
          "data": {
            "text/plain": [
              "16"
            ]
          },
          "execution_count": 3,
          "metadata": {},
          "output_type": "execute_result"
        }
      ],
      "source": [
        "x0=[1,5,5,1]\n",
        "objective(x0)"
      ]
    },
    {
      "cell_type": "code",
      "execution_count": 4,
      "metadata": {
        "id": "5vc6dR2rSYLC"
      },
      "outputs": [],
      "source": [
        " #bounds\n",
        " b=(1.0,5.0)\n",
        " bounds=(b,b,b,b)\n",
        " con1={'type':'ineq','fun':constraint1}\n",
        " con2={'type':'eq','fun':constraint2}\n",
        " cons=[con1,con2]"
      ]
    },
    {
      "cell_type": "code",
      "execution_count": 5,
      "metadata": {
        "id": "H5KDgH9gSY-L"
      },
      "outputs": [],
      "source": [
        "solution=minimize(objective,x0,method='SLSQP',bounds=bounds,constraints=cons)"
      ]
    },
    {
      "cell_type": "code",
      "execution_count": 6,
      "metadata": {
        "colab": {
          "base_uri": "https://localhost:8080/"
        },
        "id": "1tYFWs0aSY7p",
        "outputId": "fbef377e-76f1-4194-e9c1-c88dc5c52710"
      },
      "outputs": [
        {
          "data": {
            "text/plain": [
              "     fun: 17.01401724563517\n",
              "     jac: array([14.57227015,  1.37940764,  2.37940764,  9.56415057])\n",
              " message: 'Optimization terminated successfully'\n",
              "    nfev: 25\n",
              "     nit: 5\n",
              "    njev: 5\n",
              "  status: 0\n",
              " success: True\n",
              "       x: array([1.        , 4.7429961 , 3.82115462, 1.37940765])"
            ]
          },
          "execution_count": 6,
          "metadata": {},
          "output_type": "execute_result"
        }
      ],
      "source": [
        "solution"
      ]
    },
    {
      "cell_type": "markdown",
      "metadata": {
        "id": "V63-I91If22T"
      },
      "source": [
        "### second model"
      ]
    },
    {
      "cell_type": "code",
      "execution_count": 1,
      "metadata": {},
      "outputs": [],
      "source": [
        "from docplex.mp.model import Model\n",
        "m = Model(name='unit allocation')\n",
        "# Variables\n",
        "foldyphone = m.continuous_var(name='foldyphone')\n",
        "tinyphone = m.continuous_var(name='tinyphone')\n",
        "foldyphonetime = 1.5\n",
        "tinyphonetime = 2\n",
        "# Constraints\n",
        "foldyphoneprod = m.add_constraint(foldyphone >= 500)\n",
        "tinyphoneprod = m.add_constraint(tinyphone >= 200)\n",
        "totalprod = m.add_constraint(m.sum([tinyphone*tinyphonetime, foldyphone*foldyphonetime]) <= 2999.5)\n",
        "# Goals\n",
        "m.maximize(foldyphone*900 + tinyphone*1100)\n"
      ]
    },
    {
      "cell_type": "code",
      "execution_count": 2,
      "metadata": {
        "id": "_WU81rR-SYDi"
      },
      "outputs": [],
      "source": [
        "sol=m.solve()"
      ]
    },
    {
      "cell_type": "code",
      "execution_count": 3,
      "metadata": {
        "id": "9q5OwgPSSXlz"
      },
      "outputs": [
        {
          "name": "stdout",
          "output_type": "stream",
          "text": [
            "solution for: unit allocation\n",
            "objective: 1779700.000\n",
            "foldyphone = 1733.000\n",
            "tinyphone = 200.000\n"
          ]
        }
      ],
      "source": [
        "sol.display()"
      ]
    },
    {
      "cell_type": "code",
      "execution_count": null,
      "metadata": {
        "id": "e8uP-mZmSXfM"
      },
      "outputs": [],
      "source": []
    },
    {
      "cell_type": "code",
      "execution_count": null,
      "metadata": {
        "id": "SFjuQ9-bSXcK"
      },
      "outputs": [],
      "source": []
    },
    {
      "cell_type": "code",
      "execution_count": null,
      "metadata": {
        "id": "uJM2ipPKSXTK"
      },
      "outputs": [],
      "source": []
    }
  ],
  "metadata": {
    "colab": {
      "name": "Untitled0.ipynb",
      "provenance": []
    },
    "kernelspec": {
      "display_name": "Python 3",
      "name": "python3"
    },
    "language_info": {
      "codemirror_mode": {
        "name": "ipython",
        "version": 3
      },
      "file_extension": ".py",
      "mimetype": "text/x-python",
      "name": "python",
      "nbconvert_exporter": "python",
      "pygments_lexer": "ipython3",
      "version": "3.8.12"
    }
  },
  "nbformat": 4,
  "nbformat_minor": 0
}
